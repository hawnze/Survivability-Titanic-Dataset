{
 "cells": [
  {
   "cell_type": "code",
   "execution_count": 1,
   "id": "80185e9d",
   "metadata": {
    "_cell_guid": "b1076dfc-b9ad-4769-8c92-a6c4dae69d19",
    "_uuid": "8f2839f25d086af736a60e9eeb907d3b93b6e0e5",
    "execution": {
     "iopub.execute_input": "2025-01-02T01:38:31.767016Z",
     "iopub.status.busy": "2025-01-02T01:38:31.766650Z",
     "iopub.status.idle": "2025-01-02T01:38:33.439806Z",
     "shell.execute_reply": "2025-01-02T01:38:33.438698Z"
    },
    "papermill": {
     "duration": 1.686649,
     "end_time": "2025-01-02T01:38:33.441491",
     "exception": false,
     "start_time": "2025-01-02T01:38:31.754842",
     "status": "completed"
    },
    "tags": []
   },
   "outputs": [
    {
     "name": "stdout",
     "output_type": "stream",
     "text": [
      "/kaggle/input/titanic/train.csv\n",
      "/kaggle/input/titanic/test.csv\n",
      "/kaggle/input/titanic/gender_submission.csv\n"
     ]
    }
   ],
   "source": [
    "# This Python 3 environment comes with many helpful analytics libraries installed\n",
    "# It is defined by the kaggle/python Docker image: https://github.com/kaggle/docker-python\n",
    "# For example, here's several helpful packages to load\n",
    "\n",
    "import numpy as np # linear algebra\n",
    "import pandas as pd # data processing, CSV file I/O (e.g. pd.read_csv)\n",
    "import seaborn as sns\n",
    "import matplotlib.pyplot as plt\n",
    "\n",
    "\n",
    "# Input data files are available in the read-only \"../input/\" directory\n",
    "# For example, running this (by clicking run or pressing Shift+Enter) will list all files under the input directory\n",
    "\n",
    "import os\n",
    "for dirname, _, filenames in os.walk('/kaggle/input'):\n",
    "    for filename in filenames:\n",
    "        print(os.path.join(dirname, filename))\n",
    "\n",
    "# You can write up to 20GB to the current directory (/kaggle/working/) that gets preserved as output when you create a version using \"Save & Run All\" \n",
    "# You can also write temporary files to /kaggle/temp/, but they won't be saved outside of the current session"
   ]
  },
  {
   "cell_type": "markdown",
   "id": "011bdf21",
   "metadata": {
    "papermill": {
     "duration": 0.009442,
     "end_time": "2025-01-02T01:38:33.461036",
     "exception": false,
     "start_time": "2025-01-02T01:38:33.451594",
     "status": "completed"
    },
    "tags": []
   },
   "source": [
    "Load in train and test data"
   ]
  },
  {
   "cell_type": "code",
   "execution_count": 2,
   "id": "ec6c4b4a",
   "metadata": {
    "execution": {
     "iopub.execute_input": "2025-01-02T01:38:33.480231Z",
     "iopub.status.busy": "2025-01-02T01:38:33.479781Z",
     "iopub.status.idle": "2025-01-02T01:38:33.513703Z",
     "shell.execute_reply": "2025-01-02T01:38:33.512767Z"
    },
    "papermill": {
     "duration": 0.045243,
     "end_time": "2025-01-02T01:38:33.515254",
     "exception": false,
     "start_time": "2025-01-02T01:38:33.470011",
     "status": "completed"
    },
    "tags": []
   },
   "outputs": [
    {
     "data": {
      "text/html": [
       "<div>\n",
       "<style scoped>\n",
       "    .dataframe tbody tr th:only-of-type {\n",
       "        vertical-align: middle;\n",
       "    }\n",
       "\n",
       "    .dataframe tbody tr th {\n",
       "        vertical-align: top;\n",
       "    }\n",
       "\n",
       "    .dataframe thead th {\n",
       "        text-align: right;\n",
       "    }\n",
       "</style>\n",
       "<table border=\"1\" class=\"dataframe\">\n",
       "  <thead>\n",
       "    <tr style=\"text-align: right;\">\n",
       "      <th></th>\n",
       "      <th>PassengerId</th>\n",
       "      <th>Survived</th>\n",
       "      <th>Pclass</th>\n",
       "      <th>Name</th>\n",
       "      <th>Sex</th>\n",
       "      <th>Age</th>\n",
       "      <th>SibSp</th>\n",
       "      <th>Parch</th>\n",
       "      <th>Ticket</th>\n",
       "      <th>Fare</th>\n",
       "      <th>Cabin</th>\n",
       "      <th>Embarked</th>\n",
       "    </tr>\n",
       "  </thead>\n",
       "  <tbody>\n",
       "    <tr>\n",
       "      <th>0</th>\n",
       "      <td>1</td>\n",
       "      <td>0</td>\n",
       "      <td>3</td>\n",
       "      <td>Braund, Mr. Owen Harris</td>\n",
       "      <td>male</td>\n",
       "      <td>22.0</td>\n",
       "      <td>1</td>\n",
       "      <td>0</td>\n",
       "      <td>A/5 21171</td>\n",
       "      <td>7.2500</td>\n",
       "      <td>NaN</td>\n",
       "      <td>S</td>\n",
       "    </tr>\n",
       "    <tr>\n",
       "      <th>1</th>\n",
       "      <td>2</td>\n",
       "      <td>1</td>\n",
       "      <td>1</td>\n",
       "      <td>Cumings, Mrs. John Bradley (Florence Briggs Th...</td>\n",
       "      <td>female</td>\n",
       "      <td>38.0</td>\n",
       "      <td>1</td>\n",
       "      <td>0</td>\n",
       "      <td>PC 17599</td>\n",
       "      <td>71.2833</td>\n",
       "      <td>C85</td>\n",
       "      <td>C</td>\n",
       "    </tr>\n",
       "    <tr>\n",
       "      <th>2</th>\n",
       "      <td>3</td>\n",
       "      <td>1</td>\n",
       "      <td>3</td>\n",
       "      <td>Heikkinen, Miss. Laina</td>\n",
       "      <td>female</td>\n",
       "      <td>26.0</td>\n",
       "      <td>0</td>\n",
       "      <td>0</td>\n",
       "      <td>STON/O2. 3101282</td>\n",
       "      <td>7.9250</td>\n",
       "      <td>NaN</td>\n",
       "      <td>S</td>\n",
       "    </tr>\n",
       "    <tr>\n",
       "      <th>3</th>\n",
       "      <td>4</td>\n",
       "      <td>1</td>\n",
       "      <td>1</td>\n",
       "      <td>Futrelle, Mrs. Jacques Heath (Lily May Peel)</td>\n",
       "      <td>female</td>\n",
       "      <td>35.0</td>\n",
       "      <td>1</td>\n",
       "      <td>0</td>\n",
       "      <td>113803</td>\n",
       "      <td>53.1000</td>\n",
       "      <td>C123</td>\n",
       "      <td>S</td>\n",
       "    </tr>\n",
       "    <tr>\n",
       "      <th>4</th>\n",
       "      <td>5</td>\n",
       "      <td>0</td>\n",
       "      <td>3</td>\n",
       "      <td>Allen, Mr. William Henry</td>\n",
       "      <td>male</td>\n",
       "      <td>35.0</td>\n",
       "      <td>0</td>\n",
       "      <td>0</td>\n",
       "      <td>373450</td>\n",
       "      <td>8.0500</td>\n",
       "      <td>NaN</td>\n",
       "      <td>S</td>\n",
       "    </tr>\n",
       "  </tbody>\n",
       "</table>\n",
       "</div>"
      ],
      "text/plain": [
       "   PassengerId  Survived  Pclass  \\\n",
       "0            1         0       3   \n",
       "1            2         1       1   \n",
       "2            3         1       3   \n",
       "3            4         1       1   \n",
       "4            5         0       3   \n",
       "\n",
       "                                                Name     Sex   Age  SibSp  \\\n",
       "0                            Braund, Mr. Owen Harris    male  22.0      1   \n",
       "1  Cumings, Mrs. John Bradley (Florence Briggs Th...  female  38.0      1   \n",
       "2                             Heikkinen, Miss. Laina  female  26.0      0   \n",
       "3       Futrelle, Mrs. Jacques Heath (Lily May Peel)  female  35.0      1   \n",
       "4                           Allen, Mr. William Henry    male  35.0      0   \n",
       "\n",
       "   Parch            Ticket     Fare Cabin Embarked  \n",
       "0      0         A/5 21171   7.2500   NaN        S  \n",
       "1      0          PC 17599  71.2833   C85        C  \n",
       "2      0  STON/O2. 3101282   7.9250   NaN        S  \n",
       "3      0            113803  53.1000  C123        S  \n",
       "4      0            373450   8.0500   NaN        S  "
      ]
     },
     "execution_count": 2,
     "metadata": {},
     "output_type": "execute_result"
    }
   ],
   "source": [
    "train_data = pd.read_csv(\"/kaggle/input/titanic/train.csv\")\n",
    "\n",
    "train_data.head()"
   ]
  },
  {
   "cell_type": "code",
   "execution_count": 3,
   "id": "2b688ba2",
   "metadata": {
    "execution": {
     "iopub.execute_input": "2025-01-02T01:38:33.537543Z",
     "iopub.status.busy": "2025-01-02T01:38:33.537247Z",
     "iopub.status.idle": "2025-01-02T01:38:33.554641Z",
     "shell.execute_reply": "2025-01-02T01:38:33.553801Z"
    },
    "papermill": {
     "duration": 0.029853,
     "end_time": "2025-01-02T01:38:33.556164",
     "exception": false,
     "start_time": "2025-01-02T01:38:33.526311",
     "status": "completed"
    },
    "tags": []
   },
   "outputs": [
    {
     "data": {
      "text/html": [
       "<div>\n",
       "<style scoped>\n",
       "    .dataframe tbody tr th:only-of-type {\n",
       "        vertical-align: middle;\n",
       "    }\n",
       "\n",
       "    .dataframe tbody tr th {\n",
       "        vertical-align: top;\n",
       "    }\n",
       "\n",
       "    .dataframe thead th {\n",
       "        text-align: right;\n",
       "    }\n",
       "</style>\n",
       "<table border=\"1\" class=\"dataframe\">\n",
       "  <thead>\n",
       "    <tr style=\"text-align: right;\">\n",
       "      <th></th>\n",
       "      <th>PassengerId</th>\n",
       "      <th>Pclass</th>\n",
       "      <th>Name</th>\n",
       "      <th>Sex</th>\n",
       "      <th>Age</th>\n",
       "      <th>SibSp</th>\n",
       "      <th>Parch</th>\n",
       "      <th>Ticket</th>\n",
       "      <th>Fare</th>\n",
       "      <th>Cabin</th>\n",
       "      <th>Embarked</th>\n",
       "    </tr>\n",
       "  </thead>\n",
       "  <tbody>\n",
       "    <tr>\n",
       "      <th>0</th>\n",
       "      <td>892</td>\n",
       "      <td>3</td>\n",
       "      <td>Kelly, Mr. James</td>\n",
       "      <td>male</td>\n",
       "      <td>34.5</td>\n",
       "      <td>0</td>\n",
       "      <td>0</td>\n",
       "      <td>330911</td>\n",
       "      <td>7.8292</td>\n",
       "      <td>NaN</td>\n",
       "      <td>Q</td>\n",
       "    </tr>\n",
       "    <tr>\n",
       "      <th>1</th>\n",
       "      <td>893</td>\n",
       "      <td>3</td>\n",
       "      <td>Wilkes, Mrs. James (Ellen Needs)</td>\n",
       "      <td>female</td>\n",
       "      <td>47.0</td>\n",
       "      <td>1</td>\n",
       "      <td>0</td>\n",
       "      <td>363272</td>\n",
       "      <td>7.0000</td>\n",
       "      <td>NaN</td>\n",
       "      <td>S</td>\n",
       "    </tr>\n",
       "    <tr>\n",
       "      <th>2</th>\n",
       "      <td>894</td>\n",
       "      <td>2</td>\n",
       "      <td>Myles, Mr. Thomas Francis</td>\n",
       "      <td>male</td>\n",
       "      <td>62.0</td>\n",
       "      <td>0</td>\n",
       "      <td>0</td>\n",
       "      <td>240276</td>\n",
       "      <td>9.6875</td>\n",
       "      <td>NaN</td>\n",
       "      <td>Q</td>\n",
       "    </tr>\n",
       "    <tr>\n",
       "      <th>3</th>\n",
       "      <td>895</td>\n",
       "      <td>3</td>\n",
       "      <td>Wirz, Mr. Albert</td>\n",
       "      <td>male</td>\n",
       "      <td>27.0</td>\n",
       "      <td>0</td>\n",
       "      <td>0</td>\n",
       "      <td>315154</td>\n",
       "      <td>8.6625</td>\n",
       "      <td>NaN</td>\n",
       "      <td>S</td>\n",
       "    </tr>\n",
       "    <tr>\n",
       "      <th>4</th>\n",
       "      <td>896</td>\n",
       "      <td>3</td>\n",
       "      <td>Hirvonen, Mrs. Alexander (Helga E Lindqvist)</td>\n",
       "      <td>female</td>\n",
       "      <td>22.0</td>\n",
       "      <td>1</td>\n",
       "      <td>1</td>\n",
       "      <td>3101298</td>\n",
       "      <td>12.2875</td>\n",
       "      <td>NaN</td>\n",
       "      <td>S</td>\n",
       "    </tr>\n",
       "  </tbody>\n",
       "</table>\n",
       "</div>"
      ],
      "text/plain": [
       "   PassengerId  Pclass                                          Name     Sex  \\\n",
       "0          892       3                              Kelly, Mr. James    male   \n",
       "1          893       3              Wilkes, Mrs. James (Ellen Needs)  female   \n",
       "2          894       2                     Myles, Mr. Thomas Francis    male   \n",
       "3          895       3                              Wirz, Mr. Albert    male   \n",
       "4          896       3  Hirvonen, Mrs. Alexander (Helga E Lindqvist)  female   \n",
       "\n",
       "    Age  SibSp  Parch   Ticket     Fare Cabin Embarked  \n",
       "0  34.5      0      0   330911   7.8292   NaN        Q  \n",
       "1  47.0      1      0   363272   7.0000   NaN        S  \n",
       "2  62.0      0      0   240276   9.6875   NaN        Q  \n",
       "3  27.0      0      0   315154   8.6625   NaN        S  \n",
       "4  22.0      1      1  3101298  12.2875   NaN        S  "
      ]
     },
     "execution_count": 3,
     "metadata": {},
     "output_type": "execute_result"
    }
   ],
   "source": [
    "test_data = pd.read_csv(\"/kaggle/input/titanic/test.csv\")\n",
    "test_data.head()"
   ]
  },
  {
   "cell_type": "markdown",
   "id": "f7aee127",
   "metadata": {
    "execution": {
     "iopub.execute_input": "2024-12-30T01:07:47.214125Z",
     "iopub.status.busy": "2024-12-30T01:07:47.213723Z",
     "iopub.status.idle": "2024-12-30T01:07:47.218382Z",
     "shell.execute_reply": "2024-12-30T01:07:47.217172Z",
     "shell.execute_reply.started": "2024-12-30T01:07:47.214089Z"
    },
    "papermill": {
     "duration": 0.009977,
     "end_time": "2025-01-02T01:38:33.576958",
     "exception": false,
     "start_time": "2025-01-02T01:38:33.566981",
     "status": "completed"
    },
    "tags": []
   },
   "source": [
    "**Explore the Data:**\n",
    "\n",
    "Report on what are the numerical and categorical features of given data\n",
    "\n",
    "What are some themes we can find:\n",
    "* Money: Ticket price with age?, Did wealthier people have higher survival.\n",
    "* Different cabins\n",
    "* Did gender affect rate of survival\n"
   ]
  },
  {
   "cell_type": "markdown",
   "id": "1b38a113",
   "metadata": {
    "papermill": {
     "duration": 0.009576,
     "end_time": "2025-01-02T01:38:33.596280",
     "exception": false,
     "start_time": "2025-01-02T01:38:33.586704",
     "status": "completed"
    },
    "tags": []
   },
   "source": [
    "**LETS LOOK AT THE NUMERICAL FEATURES**\n",
    "\n",
    "(Survived -> 0,1 and PClass -> 1,2,3 are categorical)"
   ]
  },
  {
   "cell_type": "code",
   "execution_count": 4,
   "id": "dadefc15",
   "metadata": {
    "execution": {
     "iopub.execute_input": "2025-01-02T01:38:33.616797Z",
     "iopub.status.busy": "2025-01-02T01:38:33.616428Z",
     "iopub.status.idle": "2025-01-02T01:38:33.644781Z",
     "shell.execute_reply": "2025-01-02T01:38:33.643933Z"
    },
    "papermill": {
     "duration": 0.040515,
     "end_time": "2025-01-02T01:38:33.646462",
     "exception": false,
     "start_time": "2025-01-02T01:38:33.605947",
     "status": "completed"
    },
    "tags": []
   },
   "outputs": [
    {
     "data": {
      "text/html": [
       "<div>\n",
       "<style scoped>\n",
       "    .dataframe tbody tr th:only-of-type {\n",
       "        vertical-align: middle;\n",
       "    }\n",
       "\n",
       "    .dataframe tbody tr th {\n",
       "        vertical-align: top;\n",
       "    }\n",
       "\n",
       "    .dataframe thead th {\n",
       "        text-align: right;\n",
       "    }\n",
       "</style>\n",
       "<table border=\"1\" class=\"dataframe\">\n",
       "  <thead>\n",
       "    <tr style=\"text-align: right;\">\n",
       "      <th></th>\n",
       "      <th>count</th>\n",
       "      <th>mean</th>\n",
       "      <th>std</th>\n",
       "      <th>min</th>\n",
       "      <th>25%</th>\n",
       "      <th>50%</th>\n",
       "      <th>75%</th>\n",
       "      <th>max</th>\n",
       "    </tr>\n",
       "  </thead>\n",
       "  <tbody>\n",
       "    <tr>\n",
       "      <th>PassengerId</th>\n",
       "      <td>891.0</td>\n",
       "      <td>446.000000</td>\n",
       "      <td>257.353842</td>\n",
       "      <td>1.00</td>\n",
       "      <td>223.5000</td>\n",
       "      <td>446.0000</td>\n",
       "      <td>668.5</td>\n",
       "      <td>891.0000</td>\n",
       "    </tr>\n",
       "    <tr>\n",
       "      <th>Survived</th>\n",
       "      <td>891.0</td>\n",
       "      <td>0.383838</td>\n",
       "      <td>0.486592</td>\n",
       "      <td>0.00</td>\n",
       "      <td>0.0000</td>\n",
       "      <td>0.0000</td>\n",
       "      <td>1.0</td>\n",
       "      <td>1.0000</td>\n",
       "    </tr>\n",
       "    <tr>\n",
       "      <th>Pclass</th>\n",
       "      <td>891.0</td>\n",
       "      <td>2.308642</td>\n",
       "      <td>0.836071</td>\n",
       "      <td>1.00</td>\n",
       "      <td>2.0000</td>\n",
       "      <td>3.0000</td>\n",
       "      <td>3.0</td>\n",
       "      <td>3.0000</td>\n",
       "    </tr>\n",
       "    <tr>\n",
       "      <th>Age</th>\n",
       "      <td>714.0</td>\n",
       "      <td>29.699118</td>\n",
       "      <td>14.526497</td>\n",
       "      <td>0.42</td>\n",
       "      <td>20.1250</td>\n",
       "      <td>28.0000</td>\n",
       "      <td>38.0</td>\n",
       "      <td>80.0000</td>\n",
       "    </tr>\n",
       "    <tr>\n",
       "      <th>SibSp</th>\n",
       "      <td>891.0</td>\n",
       "      <td>0.523008</td>\n",
       "      <td>1.102743</td>\n",
       "      <td>0.00</td>\n",
       "      <td>0.0000</td>\n",
       "      <td>0.0000</td>\n",
       "      <td>1.0</td>\n",
       "      <td>8.0000</td>\n",
       "    </tr>\n",
       "    <tr>\n",
       "      <th>Parch</th>\n",
       "      <td>891.0</td>\n",
       "      <td>0.381594</td>\n",
       "      <td>0.806057</td>\n",
       "      <td>0.00</td>\n",
       "      <td>0.0000</td>\n",
       "      <td>0.0000</td>\n",
       "      <td>0.0</td>\n",
       "      <td>6.0000</td>\n",
       "    </tr>\n",
       "    <tr>\n",
       "      <th>Fare</th>\n",
       "      <td>891.0</td>\n",
       "      <td>32.204208</td>\n",
       "      <td>49.693429</td>\n",
       "      <td>0.00</td>\n",
       "      <td>7.9104</td>\n",
       "      <td>14.4542</td>\n",
       "      <td>31.0</td>\n",
       "      <td>512.3292</td>\n",
       "    </tr>\n",
       "  </tbody>\n",
       "</table>\n",
       "</div>"
      ],
      "text/plain": [
       "             count        mean         std   min       25%       50%    75%  \\\n",
       "PassengerId  891.0  446.000000  257.353842  1.00  223.5000  446.0000  668.5   \n",
       "Survived     891.0    0.383838    0.486592  0.00    0.0000    0.0000    1.0   \n",
       "Pclass       891.0    2.308642    0.836071  1.00    2.0000    3.0000    3.0   \n",
       "Age          714.0   29.699118   14.526497  0.42   20.1250   28.0000   38.0   \n",
       "SibSp        891.0    0.523008    1.102743  0.00    0.0000    0.0000    1.0   \n",
       "Parch        891.0    0.381594    0.806057  0.00    0.0000    0.0000    0.0   \n",
       "Fare         891.0   32.204208   49.693429  0.00    7.9104   14.4542   31.0   \n",
       "\n",
       "                  max  \n",
       "PassengerId  891.0000  \n",
       "Survived       1.0000  \n",
       "Pclass         3.0000  \n",
       "Age           80.0000  \n",
       "SibSp          8.0000  \n",
       "Parch          6.0000  \n",
       "Fare         512.3292  "
      ]
     },
     "execution_count": 4,
     "metadata": {},
     "output_type": "execute_result"
    }
   ],
   "source": [
    "#numeric features for training data\n",
    "train_data.describe().transpose()\n",
    "\n"
   ]
  },
  {
   "cell_type": "markdown",
   "id": "ae78f4cb",
   "metadata": {
    "papermill": {
     "duration": 0.010565,
     "end_time": "2025-01-02T01:38:33.668141",
     "exception": false,
     "start_time": "2025-01-02T01:38:33.657576",
     "status": "completed"
    },
    "tags": []
   },
   "source": [
    "#Observations for training data:\n",
    "* Age has missing values since count of passengerId > Age\n",
    "* ~38% of all passengers survived\n",
    "* 75 percent/ majority of passengers are 38 and younger\n",
    "* Majority of passengers traveled without Parents and children\n",
    "* Minimum fare is 0 which suggests that some passengers got free admission -> Children?"
   ]
  },
  {
   "cell_type": "code",
   "execution_count": 5,
   "id": "84066fc5",
   "metadata": {
    "execution": {
     "iopub.execute_input": "2025-01-02T01:38:33.689357Z",
     "iopub.status.busy": "2025-01-02T01:38:33.689012Z",
     "iopub.status.idle": "2025-01-02T01:38:33.710891Z",
     "shell.execute_reply": "2025-01-02T01:38:33.709939Z"
    },
    "papermill": {
     "duration": 0.034056,
     "end_time": "2025-01-02T01:38:33.712317",
     "exception": false,
     "start_time": "2025-01-02T01:38:33.678261",
     "status": "completed"
    },
    "tags": []
   },
   "outputs": [
    {
     "data": {
      "text/html": [
       "<div>\n",
       "<style scoped>\n",
       "    .dataframe tbody tr th:only-of-type {\n",
       "        vertical-align: middle;\n",
       "    }\n",
       "\n",
       "    .dataframe tbody tr th {\n",
       "        vertical-align: top;\n",
       "    }\n",
       "\n",
       "    .dataframe thead th {\n",
       "        text-align: right;\n",
       "    }\n",
       "</style>\n",
       "<table border=\"1\" class=\"dataframe\">\n",
       "  <thead>\n",
       "    <tr style=\"text-align: right;\">\n",
       "      <th></th>\n",
       "      <th>count</th>\n",
       "      <th>mean</th>\n",
       "      <th>std</th>\n",
       "      <th>min</th>\n",
       "      <th>25%</th>\n",
       "      <th>50%</th>\n",
       "      <th>75%</th>\n",
       "      <th>max</th>\n",
       "    </tr>\n",
       "  </thead>\n",
       "  <tbody>\n",
       "    <tr>\n",
       "      <th>PassengerId</th>\n",
       "      <td>418.0</td>\n",
       "      <td>1100.500000</td>\n",
       "      <td>120.810458</td>\n",
       "      <td>892.00</td>\n",
       "      <td>996.2500</td>\n",
       "      <td>1100.5000</td>\n",
       "      <td>1204.75</td>\n",
       "      <td>1309.0000</td>\n",
       "    </tr>\n",
       "    <tr>\n",
       "      <th>Pclass</th>\n",
       "      <td>418.0</td>\n",
       "      <td>2.265550</td>\n",
       "      <td>0.841838</td>\n",
       "      <td>1.00</td>\n",
       "      <td>1.0000</td>\n",
       "      <td>3.0000</td>\n",
       "      <td>3.00</td>\n",
       "      <td>3.0000</td>\n",
       "    </tr>\n",
       "    <tr>\n",
       "      <th>Age</th>\n",
       "      <td>332.0</td>\n",
       "      <td>30.272590</td>\n",
       "      <td>14.181209</td>\n",
       "      <td>0.17</td>\n",
       "      <td>21.0000</td>\n",
       "      <td>27.0000</td>\n",
       "      <td>39.00</td>\n",
       "      <td>76.0000</td>\n",
       "    </tr>\n",
       "    <tr>\n",
       "      <th>SibSp</th>\n",
       "      <td>418.0</td>\n",
       "      <td>0.447368</td>\n",
       "      <td>0.896760</td>\n",
       "      <td>0.00</td>\n",
       "      <td>0.0000</td>\n",
       "      <td>0.0000</td>\n",
       "      <td>1.00</td>\n",
       "      <td>8.0000</td>\n",
       "    </tr>\n",
       "    <tr>\n",
       "      <th>Parch</th>\n",
       "      <td>418.0</td>\n",
       "      <td>0.392344</td>\n",
       "      <td>0.981429</td>\n",
       "      <td>0.00</td>\n",
       "      <td>0.0000</td>\n",
       "      <td>0.0000</td>\n",
       "      <td>0.00</td>\n",
       "      <td>9.0000</td>\n",
       "    </tr>\n",
       "    <tr>\n",
       "      <th>Fare</th>\n",
       "      <td>417.0</td>\n",
       "      <td>35.627188</td>\n",
       "      <td>55.907576</td>\n",
       "      <td>0.00</td>\n",
       "      <td>7.8958</td>\n",
       "      <td>14.4542</td>\n",
       "      <td>31.50</td>\n",
       "      <td>512.3292</td>\n",
       "    </tr>\n",
       "  </tbody>\n",
       "</table>\n",
       "</div>"
      ],
      "text/plain": [
       "             count         mean         std     min       25%        50%  \\\n",
       "PassengerId  418.0  1100.500000  120.810458  892.00  996.2500  1100.5000   \n",
       "Pclass       418.0     2.265550    0.841838    1.00    1.0000     3.0000   \n",
       "Age          332.0    30.272590   14.181209    0.17   21.0000    27.0000   \n",
       "SibSp        418.0     0.447368    0.896760    0.00    0.0000     0.0000   \n",
       "Parch        418.0     0.392344    0.981429    0.00    0.0000     0.0000   \n",
       "Fare         417.0    35.627188   55.907576    0.00    7.8958    14.4542   \n",
       "\n",
       "                 75%        max  \n",
       "PassengerId  1204.75  1309.0000  \n",
       "Pclass          3.00     3.0000  \n",
       "Age            39.00    76.0000  \n",
       "SibSp           1.00     8.0000  \n",
       "Parch           0.00     9.0000  \n",
       "Fare           31.50   512.3292  "
      ]
     },
     "execution_count": 5,
     "metadata": {},
     "output_type": "execute_result"
    }
   ],
   "source": [
    "#numeric features for test data\n",
    "test_data.describe().transpose()\n",
    "\n"
   ]
  },
  {
   "cell_type": "markdown",
   "id": "ef165124",
   "metadata": {
    "papermill": {
     "duration": 0.009659,
     "end_time": "2025-01-02T01:38:33.731995",
     "exception": false,
     "start_time": "2025-01-02T01:38:33.722336",
     "status": "completed"
    },
    "tags": []
   },
   "source": [
    "#Observations for testing data:\n",
    "* Age has missing values since count of passengerId > Age,\n",
    "* One missing value for Fare\n",
    "* ~30 Passengers survived\n",
    "* 75 percent / majority of passengers are 39 and younger\n",
    "* Majority of passengers traveled without Parents and children\n",
    "* Minimum fare is 0 which suggests that some passengers got free admission -> Children?\n"
   ]
  },
  {
   "cell_type": "markdown",
   "id": "495c2538",
   "metadata": {
    "papermill": {
     "duration": 0.010384,
     "end_time": "2025-01-02T01:38:33.752445",
     "exception": false,
     "start_time": "2025-01-02T01:38:33.742061",
     "status": "completed"
    },
    "tags": []
   },
   "source": [
    "**LET'S LOOK AT THE CATEGORICAL FEATURES**"
   ]
  },
  {
   "cell_type": "code",
   "execution_count": 6,
   "id": "72874a3b",
   "metadata": {
    "execution": {
     "iopub.execute_input": "2025-01-02T01:38:33.774955Z",
     "iopub.status.busy": "2025-01-02T01:38:33.774562Z",
     "iopub.status.idle": "2025-01-02T01:38:33.794703Z",
     "shell.execute_reply": "2025-01-02T01:38:33.793911Z"
    },
    "papermill": {
     "duration": 0.033196,
     "end_time": "2025-01-02T01:38:33.796064",
     "exception": false,
     "start_time": "2025-01-02T01:38:33.762868",
     "status": "completed"
    },
    "tags": []
   },
   "outputs": [
    {
     "data": {
      "text/html": [
       "<div>\n",
       "<style scoped>\n",
       "    .dataframe tbody tr th:only-of-type {\n",
       "        vertical-align: middle;\n",
       "    }\n",
       "\n",
       "    .dataframe tbody tr th {\n",
       "        vertical-align: top;\n",
       "    }\n",
       "\n",
       "    .dataframe thead th {\n",
       "        text-align: right;\n",
       "    }\n",
       "</style>\n",
       "<table border=\"1\" class=\"dataframe\">\n",
       "  <thead>\n",
       "    <tr style=\"text-align: right;\">\n",
       "      <th></th>\n",
       "      <th>count</th>\n",
       "      <th>unique</th>\n",
       "      <th>top</th>\n",
       "      <th>freq</th>\n",
       "    </tr>\n",
       "  </thead>\n",
       "  <tbody>\n",
       "    <tr>\n",
       "      <th>Name</th>\n",
       "      <td>891</td>\n",
       "      <td>891</td>\n",
       "      <td>Braund, Mr. Owen Harris</td>\n",
       "      <td>1</td>\n",
       "    </tr>\n",
       "    <tr>\n",
       "      <th>Sex</th>\n",
       "      <td>891</td>\n",
       "      <td>2</td>\n",
       "      <td>male</td>\n",
       "      <td>577</td>\n",
       "    </tr>\n",
       "    <tr>\n",
       "      <th>Ticket</th>\n",
       "      <td>891</td>\n",
       "      <td>681</td>\n",
       "      <td>347082</td>\n",
       "      <td>7</td>\n",
       "    </tr>\n",
       "    <tr>\n",
       "      <th>Cabin</th>\n",
       "      <td>204</td>\n",
       "      <td>147</td>\n",
       "      <td>B96 B98</td>\n",
       "      <td>4</td>\n",
       "    </tr>\n",
       "    <tr>\n",
       "      <th>Embarked</th>\n",
       "      <td>889</td>\n",
       "      <td>3</td>\n",
       "      <td>S</td>\n",
       "      <td>644</td>\n",
       "    </tr>\n",
       "  </tbody>\n",
       "</table>\n",
       "</div>"
      ],
      "text/plain": [
       "         count unique                      top freq\n",
       "Name       891    891  Braund, Mr. Owen Harris    1\n",
       "Sex        891      2                     male  577\n",
       "Ticket     891    681                   347082    7\n",
       "Cabin      204    147                  B96 B98    4\n",
       "Embarked   889      3                        S  644"
      ]
     },
     "execution_count": 6,
     "metadata": {},
     "output_type": "execute_result"
    }
   ],
   "source": [
    "#Categorical features for train_data\n",
    "train_data.describe(include = ['object']).transpose()"
   ]
  },
  {
   "cell_type": "code",
   "execution_count": 7,
   "id": "b7eec8d6",
   "metadata": {
    "execution": {
     "iopub.execute_input": "2025-01-02T01:38:33.818131Z",
     "iopub.status.busy": "2025-01-02T01:38:33.817806Z",
     "iopub.status.idle": "2025-01-02T01:38:33.831821Z",
     "shell.execute_reply": "2025-01-02T01:38:33.831000Z"
    },
    "papermill": {
     "duration": 0.026765,
     "end_time": "2025-01-02T01:38:33.833283",
     "exception": false,
     "start_time": "2025-01-02T01:38:33.806518",
     "status": "completed"
    },
    "tags": []
   },
   "outputs": [
    {
     "data": {
      "text/html": [
       "<div>\n",
       "<style scoped>\n",
       "    .dataframe tbody tr th:only-of-type {\n",
       "        vertical-align: middle;\n",
       "    }\n",
       "\n",
       "    .dataframe tbody tr th {\n",
       "        vertical-align: top;\n",
       "    }\n",
       "\n",
       "    .dataframe thead th {\n",
       "        text-align: right;\n",
       "    }\n",
       "</style>\n",
       "<table border=\"1\" class=\"dataframe\">\n",
       "  <thead>\n",
       "    <tr style=\"text-align: right;\">\n",
       "      <th></th>\n",
       "      <th>count</th>\n",
       "      <th>unique</th>\n",
       "      <th>top</th>\n",
       "      <th>freq</th>\n",
       "    </tr>\n",
       "  </thead>\n",
       "  <tbody>\n",
       "    <tr>\n",
       "      <th>Name</th>\n",
       "      <td>418</td>\n",
       "      <td>418</td>\n",
       "      <td>Kelly, Mr. James</td>\n",
       "      <td>1</td>\n",
       "    </tr>\n",
       "    <tr>\n",
       "      <th>Sex</th>\n",
       "      <td>418</td>\n",
       "      <td>2</td>\n",
       "      <td>male</td>\n",
       "      <td>266</td>\n",
       "    </tr>\n",
       "    <tr>\n",
       "      <th>Ticket</th>\n",
       "      <td>418</td>\n",
       "      <td>363</td>\n",
       "      <td>PC 17608</td>\n",
       "      <td>5</td>\n",
       "    </tr>\n",
       "    <tr>\n",
       "      <th>Cabin</th>\n",
       "      <td>91</td>\n",
       "      <td>76</td>\n",
       "      <td>B57 B59 B63 B66</td>\n",
       "      <td>3</td>\n",
       "    </tr>\n",
       "    <tr>\n",
       "      <th>Embarked</th>\n",
       "      <td>418</td>\n",
       "      <td>3</td>\n",
       "      <td>S</td>\n",
       "      <td>270</td>\n",
       "    </tr>\n",
       "  </tbody>\n",
       "</table>\n",
       "</div>"
      ],
      "text/plain": [
       "         count unique               top freq\n",
       "Name       418    418  Kelly, Mr. James    1\n",
       "Sex        418      2              male  266\n",
       "Ticket     418    363          PC 17608    5\n",
       "Cabin       91     76   B57 B59 B63 B66    3\n",
       "Embarked   418      3                 S  270"
      ]
     },
     "execution_count": 7,
     "metadata": {},
     "output_type": "execute_result"
    }
   ],
   "source": [
    "#Categorical features for test_data\n",
    "test_data.describe(include = ['object']).transpose()"
   ]
  },
  {
   "cell_type": "code",
   "execution_count": 8,
   "id": "ca29202a",
   "metadata": {
    "execution": {
     "iopub.execute_input": "2025-01-02T01:38:33.855431Z",
     "iopub.status.busy": "2025-01-02T01:38:33.855178Z",
     "iopub.status.idle": "2025-01-02T01:38:33.868687Z",
     "shell.execute_reply": "2025-01-02T01:38:33.867845Z"
    },
    "papermill": {
     "duration": 0.026071,
     "end_time": "2025-01-02T01:38:33.870198",
     "exception": false,
     "start_time": "2025-01-02T01:38:33.844127",
     "status": "completed"
    },
    "tags": []
   },
   "outputs": [
    {
     "data": {
      "text/plain": [
       "Index(['PassengerId', 'Survived', 'Pclass', 'Name', 'Sex', 'Age', 'SibSp',\n",
       "       'Parch', 'Ticket', 'Fare', 'Cabin', 'Embarked', 'train_test'],\n",
       "      dtype='object')"
      ]
     },
     "execution_count": 8,
     "metadata": {},
     "output_type": "execute_result"
    }
   ],
   "source": [
    "#Let's make a dataset containing both train and test \n",
    "#we will use the train_test column where 1 represents training data and 0 represents it isnt (test data)\n",
    "train_data['train_test'] = 1\n",
    "test_data['train_test'] = 0\n",
    "# the test dataset typically doesn't contain the actual Survived values \n",
    "test_data['Survived'] = np.NaN\n",
    "all_data = pd.concat([train_data, test_data], axis = 0, ignore_index=True)\n",
    "all_data.columns"
   ]
  },
  {
   "cell_type": "markdown",
   "id": "a6f16fb9",
   "metadata": {
    "papermill": {
     "duration": 0.010387,
     "end_time": "2025-01-02T01:38:33.891178",
     "exception": false,
     "start_time": "2025-01-02T01:38:33.880791",
     "status": "completed"
    },
    "tags": []
   },
   "source": [
    "**Categorical features for both data**\n",
    "* For both data, all NAMES are UNIQUE but TICKETS ARE NOT. Could support how Children could get in for free\n",
    "* train, there are 891 people, so 891 - 577 males = 314 female passengers\n",
    "* test, there are 418 people, so 418 - 266 males = 152 female passengers\n",
    "* For both train and test there are missing values for 'Cabin' --> care later\n",
    "* For train, there are missing values for embarked --> care later"
   ]
  },
  {
   "cell_type": "code",
   "execution_count": 9,
   "id": "6d6fbcfb",
   "metadata": {
    "execution": {
     "iopub.execute_input": "2025-01-02T01:38:33.913338Z",
     "iopub.status.busy": "2025-01-02T01:38:33.913008Z",
     "iopub.status.idle": "2025-01-02T01:38:33.917276Z",
     "shell.execute_reply": "2025-01-02T01:38:33.916278Z"
    },
    "papermill": {
     "duration": 0.017146,
     "end_time": "2025-01-02T01:38:33.918733",
     "exception": false,
     "start_time": "2025-01-02T01:38:33.901587",
     "status": "completed"
    },
    "tags": []
   },
   "outputs": [],
   "source": [
    "#Assign numerical and categorical variables we determined for easier access.\n",
    "#Used for easier access when visualizing the data\n",
    "\n",
    "numeric_df = ['Age', 'SibSp', 'Parch', 'Fare']\n",
    "categ_df = ['Survived', 'Pclass', 'Sex', 'Ticket', 'Cabin', 'Embarked']"
   ]
  },
  {
   "cell_type": "markdown",
   "id": "a1e3ac35",
   "metadata": {
    "papermill": {
     "duration": 0.010681,
     "end_time": "2025-01-02T01:38:33.940076",
     "exception": false,
     "start_time": "2025-01-02T01:38:33.929395",
     "status": "completed"
    },
    "tags": []
   },
   "source": [
    "**Visualize the Data**\n",
    "\n",
    "* Numerical features: histograms, compare survival rates...\n",
    "\n",
    "* Categorical features: bar charts, ..."
   ]
  },
  {
   "cell_type": "markdown",
   "id": "30e9fc69",
   "metadata": {
    "papermill": {
     "duration": 0.011077,
     "end_time": "2025-01-02T01:38:33.962227",
     "exception": false,
     "start_time": "2025-01-02T01:38:33.951150",
     "status": "completed"
    },
    "tags": []
   },
   "source": [
    "**Numerical Visualization**"
   ]
  },
  {
   "cell_type": "code",
   "execution_count": 10,
   "id": "ee7198c0",
   "metadata": {
    "execution": {
     "iopub.execute_input": "2025-01-02T01:38:33.985896Z",
     "iopub.status.busy": "2025-01-02T01:38:33.985509Z",
     "iopub.status.idle": "2025-01-02T01:38:35.185449Z",
     "shell.execute_reply": "2025-01-02T01:38:35.184494Z"
    },
    "papermill": {
     "duration": 1.213611,
     "end_time": "2025-01-02T01:38:35.186929",
     "exception": false,
     "start_time": "2025-01-02T01:38:33.973318",
     "status": "completed"
    },
    "tags": []
   },
   "outputs": [
    {
     "name": "stderr",
     "output_type": "stream",
     "text": [
      "/usr/local/lib/python3.10/dist-packages/seaborn/_oldcore.py:1119: FutureWarning: use_inf_as_na option is deprecated and will be removed in a future version. Convert inf values to NaN before operating instead.\n",
      "  with pd.option_context('mode.use_inf_as_na', True):\n"
     ]
    },
    {
     "data": {
      "image/png": "[encoded data removed]",
      "text/plain": [
       "<Figure size 640x480 with 1 Axes>"
      ]
     },
     "metadata": {},
     "output_type": "display_data"
    },
    {
     "name": "stderr",
     "output_type": "stream",
     "text": [
      "/usr/local/lib/python3.10/dist-packages/seaborn/_oldcore.py:1119: FutureWarning: use_inf_as_na option is deprecated and will be removed in a future version. Convert inf values to NaN before operating instead.\n",
      "  with pd.option_context('mode.use_inf_as_na', True):\n"
     ]
    },
    {
     "data": {
      "image/png": "[encoded data removed]",
      "text/plain": [
       "<Figure size 640x480 with 1 Axes>"
      ]
     },
     "metadata": {},
     "output_type": "display_data"
    },
    {
     "name": "stderr",
     "output_type": "stream",
     "text": [
      "/usr/local/lib/python3.10/dist-packages/seaborn/_oldcore.py:1119: FutureWarning: use_inf_as_na option is deprecated and will be removed in a future version. Convert inf values to NaN before operating instead.\n",
      "  with pd.option_context('mode.use_inf_as_na', True):\n"
     ]
    },
    {
     "data": {
      "image/png": "[encoded data removed]",
      "text/plain": [
       "<Figure size 640x480 with 1 Axes>"
      ]
     },
     "metadata": {},
     "output_type": "display_data"
    },
    {
     "name": "stderr",
     "output_type": "stream",
     "text": [
      "/usr/local/lib/python3.10/dist-packages/seaborn/_oldcore.py:1119: FutureWarning: use_inf_as_na option is deprecated and will be removed in a future version. Convert inf values to NaN before operating instead.\n",
      "  with pd.option_context('mode.use_inf_as_na', True):\n"
     ]
    },
    {
     "data": {
      "image/png": "[encoded data removed]",
      "text/plain": [
       "<Figure size 640x480 with 1 Axes>"
      ]
     },
     "metadata": {},
     "output_type": "display_data"
    }
   ],
   "source": [
    "for column in numeric_df:\n",
    "    sns.histplot(x = column, data = train_data)\n",
    "    plt.title(f'{column}')\n",
    "    plt.show()"
   ]
  },
  {
   "cell_type": "markdown",
   "id": "d1c3ff56",
   "metadata": {
    "papermill": {
     "duration": 0.011846,
     "end_time": "2025-01-02T01:38:35.210956",
     "exception": false,
     "start_time": "2025-01-02T01:38:35.199110",
     "status": "completed"
    },
    "tags": []
   },
   "source": [
    "* Age follows a normal distribution\n",
    "* Consider normalizing Fare price since there is a high frequency at a low price"
   ]
  },
  {
   "cell_type": "code",
   "execution_count": 11,
   "id": "47582792",
   "metadata": {
    "execution": {
     "iopub.execute_input": "2025-01-02T01:38:35.236348Z",
     "iopub.status.busy": "2025-01-02T01:38:35.236019Z",
     "iopub.status.idle": "2025-01-02T01:38:35.501968Z",
     "shell.execute_reply": "2025-01-02T01:38:35.501079Z"
    },
    "papermill": {
     "duration": 0.280912,
     "end_time": "2025-01-02T01:38:35.503529",
     "exception": false,
     "start_time": "2025-01-02T01:38:35.222617",
     "status": "completed"
    },
    "tags": []
   },
   "outputs": [
    {
     "data": {
      "image/png": "[encoded data removed]",
      "text/plain": [
       "<Figure size 640x480 with 2 Axes>"
      ]
     },
     "metadata": {},
     "output_type": "display_data"
    }
   ],
   "source": [
    "#Visualize correlations using heatmaps\n",
    "numeric_df = train_data[['Age', 'SibSp', 'Parch', 'Fare']]\n",
    "corr_matrix = numeric_df.corr()\n",
    "sns.heatmap(corr_matrix, annot = True)\n",
    "plt.show()"
   ]
  },
  {
   "cell_type": "code",
   "execution_count": 12,
   "id": "91a899dc",
   "metadata": {
    "execution": {
     "iopub.execute_input": "2025-01-02T01:38:35.530096Z",
     "iopub.status.busy": "2025-01-02T01:38:35.529761Z",
     "iopub.status.idle": "2025-01-02T01:38:35.546018Z",
     "shell.execute_reply": "2025-01-02T01:38:35.545061Z"
    },
    "papermill": {
     "duration": 0.031219,
     "end_time": "2025-01-02T01:38:35.547528",
     "exception": false,
     "start_time": "2025-01-02T01:38:35.516309",
     "status": "completed"
    },
    "tags": []
   },
   "outputs": [
    {
     "data": {
      "text/html": [
       "<div>\n",
       "<style scoped>\n",
       "    .dataframe tbody tr th:only-of-type {\n",
       "        vertical-align: middle;\n",
       "    }\n",
       "\n",
       "    .dataframe tbody tr th {\n",
       "        vertical-align: top;\n",
       "    }\n",
       "\n",
       "    .dataframe thead th {\n",
       "        text-align: right;\n",
       "    }\n",
       "</style>\n",
       "<table border=\"1\" class=\"dataframe\">\n",
       "  <thead>\n",
       "    <tr style=\"text-align: right;\">\n",
       "      <th></th>\n",
       "      <th>Age</th>\n",
       "      <th>SibSp</th>\n",
       "      <th>Parch</th>\n",
       "      <th>Fare</th>\n",
       "    </tr>\n",
       "    <tr>\n",
       "      <th>Survived</th>\n",
       "      <th></th>\n",
       "      <th></th>\n",
       "      <th></th>\n",
       "      <th></th>\n",
       "    </tr>\n",
       "  </thead>\n",
       "  <tbody>\n",
       "    <tr>\n",
       "      <th>0</th>\n",
       "      <td>30.626179</td>\n",
       "      <td>0.553734</td>\n",
       "      <td>0.329690</td>\n",
       "      <td>22.117887</td>\n",
       "    </tr>\n",
       "    <tr>\n",
       "      <th>1</th>\n",
       "      <td>28.343690</td>\n",
       "      <td>0.473684</td>\n",
       "      <td>0.464912</td>\n",
       "      <td>48.395408</td>\n",
       "    </tr>\n",
       "  </tbody>\n",
       "</table>\n",
       "</div>"
      ],
      "text/plain": [
       "                Age     SibSp     Parch       Fare\n",
       "Survived                                          \n",
       "0         30.626179  0.553734  0.329690  22.117887\n",
       "1         28.343690  0.473684  0.464912  48.395408"
      ]
     },
     "execution_count": 12,
     "metadata": {},
     "output_type": "execute_result"
    }
   ],
   "source": [
    "#Let's compare the rate of survival across Age, SibSp, Parch, Fare\n",
    "train_data.groupby('Survived')[['Age', 'SibSp', 'Parch', 'Fare']].mean()\n"
   ]
  },
  {
   "cell_type": "markdown",
   "id": "24e53116",
   "metadata": {
    "papermill": {
     "duration": 0.011658,
     "end_time": "2025-01-02T01:38:35.571587",
     "exception": false,
     "start_time": "2025-01-02T01:38:35.559929",
     "status": "completed"
    },
    "tags": []
   },
   "source": [
    "Possibilities:\n",
    "\n",
    "* Younger people could have had higher chances of survival\n",
    "* Maybe if you're a child and you have parents onboard, they could prioritize you for survival\n",
    "* People that paid more could mean higher chances of survival"
   ]
  },
  {
   "cell_type": "markdown",
   "id": "f36fc74f",
   "metadata": {
    "papermill": {
     "duration": 0.011606,
     "end_time": "2025-01-02T01:38:35.595424",
     "exception": false,
     "start_time": "2025-01-02T01:38:35.583818",
     "status": "completed"
    },
    "tags": []
   },
   "source": [
    "**Categorical Visualization**"
   ]
  },
  {
   "cell_type": "code",
   "execution_count": 13,
   "id": "8736d378",
   "metadata": {
    "execution": {
     "iopub.execute_input": "2025-01-02T01:38:35.621734Z",
     "iopub.status.busy": "2025-01-02T01:38:35.621387Z",
     "iopub.status.idle": "2025-01-02T01:38:41.746297Z",
     "shell.execute_reply": "2025-01-02T01:38:41.745306Z"
    },
    "papermill": {
     "duration": 6.139751,
     "end_time": "2025-01-02T01:38:41.747778",
     "exception": false,
     "start_time": "2025-01-02T01:38:35.608027",
     "status": "completed"
    },
    "tags": []
   },
   "outputs": [
    {
     "data": {
      "image/png": "[encoded data removed]",
      "text/plain": [
       "<Figure size 640x480 with 1 Axes>"
      ]
     },
     "metadata": {},
     "output_type": "display_data"
    },
    {
     "data": {
      "image/png": "[encoded data removed]",
      "text/plain": [
       "<Figure size 640x480 with 1 Axes>"
      ]
     },
     "metadata": {},
     "output_type": "display_data"
    },
    {
     "data": {
      "image/png": "[encoded data removed]",
      "text/plain": [
       "<Figure size 640x480 with 1 Axes>"
      ]
     },
     "metadata": {},
     "output_type": "display_data"
    },
    {
     "data": {
      "image/png": "[encoded data removed]",
      "text/plain": [
       "<Figure size 640x480 with 1 Axes>"
      ]
     },
     "metadata": {},
     "output_type": "display_data"
    },
    {
     "data": {
      "image/png": "[encoded data removed]",
      "text/plain": [
       "<Figure size 640x480 with 1 Axes>"
      ]
     },
     "metadata": {},
     "output_type": "display_data"
    },
    {
     "data": {
      "image/png": "[encoded data removed]",
      "text/plain": [
       "<Figure size 640x480 with 1 Axes>"
      ]
     },
     "metadata": {},
     "output_type": "display_data"
    }
   ],
   "source": [
    "for column in categ_df:\n",
    "    sns.countplot(x=column, data=train_data)\n",
    "    plt.title(f'Frequency of {column}')\n",
    "    plt.show()\n"
   ]
  },
  {
   "cell_type": "markdown",
   "id": "e98aa200",
   "metadata": {
    "papermill": {
     "duration": 0.015111,
     "end_time": "2025-01-02T01:38:41.778907",
     "exception": false,
     "start_time": "2025-01-02T01:38:41.763796",
     "status": "completed"
    },
    "tags": []
   },
   "source": [
    "Observations:\n",
    "\n",
    "* Majority of the passengers did not survive\n",
    "* Since the '3' Passenger ticket is what most passengers had, it is most likely the general ticket\n",
    "* Majority of passengers embarked from Southhampton"
   ]
  },
  {
   "cell_type": "markdown",
   "id": "f4149977",
   "metadata": {
    "papermill": {
     "duration": 0.014815,
     "end_time": "2025-01-02T01:38:41.808940",
     "exception": false,
     "start_time": "2025-01-02T01:38:41.794125",
     "status": "completed"
    },
    "tags": []
   },
   "source": [
    "**What are some questions we can ask ourself to better predict survivability?**\n",
    "\n",
    "* Did the class of the ticket (Pclass: 1st, 2nd, 3rd) influence the likelihood of survival?\n",
    "* Did the fare paid for the ticket correlate with survival?\n",
    "* Did traveling with family (siblings, spouses, parents, or children) increase the chances of survival?\n",
    "* Were younger passengers more likely to survive compared to older ones?\n",
    "* Did people's honorifics, or titles associated with their name heighten survival? --> Did royalty guarantee survival\n",
    "\n",
    "\n",
    "Below, we will compare the survival rates compared to the different categorical features as well as get into specifics such as the relationship between having multiple cabins and survival, and maybe the specific ticket value had to do with survival rate"
   ]
  },
  {
   "cell_type": "code",
   "execution_count": 14,
   "id": "648a5013",
   "metadata": {
    "execution": {
     "iopub.execute_input": "2025-01-02T01:38:41.840211Z",
     "iopub.status.busy": "2025-01-02T01:38:41.839837Z",
     "iopub.status.idle": "2025-01-02T01:38:41.855416Z",
     "shell.execute_reply": "2025-01-02T01:38:41.854485Z"
    },
    "papermill": {
     "duration": 0.033027,
     "end_time": "2025-01-02T01:38:41.856841",
     "exception": false,
     "start_time": "2025-01-02T01:38:41.823814",
     "status": "completed"
    },
    "tags": []
   },
   "outputs": [
    {
     "name": "stdout",
     "output_type": "stream",
     "text": [
      "Pclass      1   2    3\n",
      "Survived              \n",
      "0          80  97  372\n",
      "1         136  87  119\n",
      "Sex       female  male\n",
      "Survived              \n",
      "0             81   468\n",
      "1            233   109\n",
      "Embarked   C   Q    S\n",
      "Survived             \n",
      "0         75  47  427\n",
      "1         93  30  217\n"
     ]
    }
   ],
   "source": [
    "#Let's make a table comparing the different categorical variables and their survival rates\n",
    "# For 'Pclass' and 'Survived'\n",
    "pivot_pclass = train_data.groupby(['Survived', 'Pclass']).size().unstack(fill_value=0)\n",
    "\n",
    "# For 'Sex' and 'Survived'\n",
    "pivot_sex = train_data.groupby(['Survived', 'Sex']).size().unstack(fill_value=0)\n",
    "\n",
    "# For 'Embarked' and 'Survived'\n",
    "pivot_embarked = train_data.groupby(['Survived', 'Embarked']).size().unstack(fill_value=0)\n",
    "\n",
    "# Display all the pivot tables\n",
    "print(pivot_pclass)\n",
    "\n",
    "print(pivot_sex)\n",
    "\n",
    "print(pivot_embarked)\n"
   ]
  },
  {
   "cell_type": "markdown",
   "id": "3abeb691",
   "metadata": {
    "papermill": {
     "duration": 0.01489,
     "end_time": "2025-01-02T01:38:41.886352",
     "exception": false,
     "start_time": "2025-01-02T01:38:41.871462",
     "status": "completed"
    },
    "tags": []
   },
   "source": [
    "* The majority of people that survived in terms of passenger class is in first class (136)\n",
    "      - In terms of building the model, this could provide significance for solving problem\n",
    "* The majority of people that survived in terms of sex were females\n",
    "      - The practices they used has a high likelihood of prioritizing women and children\n",
    "* The majority of people that survived embarked in Southampton"
   ]
  },
  {
   "cell_type": "markdown",
   "id": "34e97384",
   "metadata": {
    "papermill": {
     "duration": 0.01439,
     "end_time": "2025-01-02T01:38:41.915981",
     "exception": false,
     "start_time": "2025-01-02T01:38:41.901591",
     "status": "completed"
    },
    "tags": []
   },
   "source": [
    "**Feature Engineering**\n",
    "* Multiple bins for 'Cabin' and 'Ticket' that needs to be simplified"
   ]
  },
  {
   "cell_type": "code",
   "execution_count": 15,
   "id": "9cada08f",
   "metadata": {
    "execution": {
     "iopub.execute_input": "2025-01-02T01:38:41.946951Z",
     "iopub.status.busy": "2025-01-02T01:38:41.946564Z",
     "iopub.status.idle": "2025-01-02T01:38:41.956456Z",
     "shell.execute_reply": "2025-01-02T01:38:41.955556Z"
    },
    "papermill": {
     "duration": 0.027217,
     "end_time": "2025-01-02T01:38:41.957987",
     "exception": false,
     "start_time": "2025-01-02T01:38:41.930770",
     "status": "completed"
    },
    "tags": []
   },
   "outputs": [
    {
     "data": {
      "text/plain": [
       "cabin_multiple\n",
       "0    687\n",
       "1    180\n",
       "2     16\n",
       "3      6\n",
       "4      2\n",
       "Name: count, dtype: int64"
      ]
     },
     "execution_count": 15,
     "metadata": {},
     "output_type": "execute_result"
    }
   ],
   "source": [
    "#create a new feature called cabin_multiple in the training_data DataFrame, which indicates whether a passenger has multiple cabins listed.\n",
    "# We can do this by assiging people who had one cabin = null = 0, then if not, the number of spaces = number of extra cabins\n",
    "train_data['cabin_multiple'] = train_data.Cabin.apply(lambda x : 0 if pd.isna(x) else len(x.split(' ')))\n",
    "train_data['cabin_multiple'].value_counts()"
   ]
  },
  {
   "cell_type": "code",
   "execution_count": 16,
   "id": "d1515ebb",
   "metadata": {
    "execution": {
     "iopub.execute_input": "2025-01-02T01:38:41.989219Z",
     "iopub.status.busy": "2025-01-02T01:38:41.988868Z",
     "iopub.status.idle": "2025-01-02T01:38:42.002671Z",
     "shell.execute_reply": "2025-01-02T01:38:42.001827Z"
    },
    "papermill": {
     "duration": 0.031736,
     "end_time": "2025-01-02T01:38:42.004116",
     "exception": false,
     "start_time": "2025-01-02T01:38:41.972380",
     "status": "completed"
    },
    "tags": []
   },
   "outputs": [
    {
     "data": {
      "text/html": [
       "<div>\n",
       "<style scoped>\n",
       "    .dataframe tbody tr th:only-of-type {\n",
       "        vertical-align: middle;\n",
       "    }\n",
       "\n",
       "    .dataframe tbody tr th {\n",
       "        vertical-align: top;\n",
       "    }\n",
       "\n",
       "    .dataframe thead th {\n",
       "        text-align: right;\n",
       "    }\n",
       "</style>\n",
       "<table border=\"1\" class=\"dataframe\">\n",
       "  <thead>\n",
       "    <tr style=\"text-align: right;\">\n",
       "      <th>cabin_multiple</th>\n",
       "      <th>0</th>\n",
       "      <th>1</th>\n",
       "      <th>2</th>\n",
       "      <th>3</th>\n",
       "      <th>4</th>\n",
       "    </tr>\n",
       "    <tr>\n",
       "      <th>Survived</th>\n",
       "      <th></th>\n",
       "      <th></th>\n",
       "      <th></th>\n",
       "      <th></th>\n",
       "      <th></th>\n",
       "    </tr>\n",
       "  </thead>\n",
       "  <tbody>\n",
       "    <tr>\n",
       "      <th>0</th>\n",
       "      <td>481</td>\n",
       "      <td>58</td>\n",
       "      <td>7</td>\n",
       "      <td>3</td>\n",
       "      <td>0</td>\n",
       "    </tr>\n",
       "    <tr>\n",
       "      <th>1</th>\n",
       "      <td>206</td>\n",
       "      <td>122</td>\n",
       "      <td>9</td>\n",
       "      <td>3</td>\n",
       "      <td>2</td>\n",
       "    </tr>\n",
       "  </tbody>\n",
       "</table>\n",
       "</div>"
      ],
      "text/plain": [
       "cabin_multiple    0    1  2  3  4\n",
       "Survived                         \n",
       "0               481   58  7  3  0\n",
       "1               206  122  9  3  2"
      ]
     },
     "execution_count": 16,
     "metadata": {},
     "output_type": "execute_result"
    }
   ],
   "source": [
    "#Let's also check from take a look at the relationship between the people who survived and the amount of cabins they owned\n",
    "#pd.pivot_table(train_data, index = 'Survived', columns = 'cabin_multiple', values = 'Ticket', aggfunc = 'count')\n",
    "train_data.groupby('Survived')[['cabin_multiple']].value_counts().unstack(fill_value=0)"
   ]
  },
  {
   "cell_type": "code",
   "execution_count": 17,
   "id": "c0b01f25",
   "metadata": {
    "execution": {
     "iopub.execute_input": "2025-01-02T01:38:42.037183Z",
     "iopub.status.busy": "2025-01-02T01:38:42.036823Z",
     "iopub.status.idle": "2025-01-02T01:38:42.041553Z",
     "shell.execute_reply": "2025-01-02T01:38:42.040854Z"
    },
    "papermill": {
     "duration": 0.022553,
     "end_time": "2025-01-02T01:38:42.042850",
     "exception": false,
     "start_time": "2025-01-02T01:38:42.020297",
     "status": "completed"
    },
    "tags": []
   },
   "outputs": [],
   "source": [
    "#We can further explore the cabins by taking a look at the cabin letter and see if that had an effect on survival rate\n",
    "#Let's assume that cabin letter at the same location of the titanic\n",
    "#Extracting the letter from each value\n",
    "train_data['cabin_letter'] = train_data.Cabin.apply(lambda x: str(x)[0])"
   ]
  },
  {
   "cell_type": "code",
   "execution_count": 18,
   "id": "3094dd7f",
   "metadata": {
    "execution": {
     "iopub.execute_input": "2025-01-02T01:38:42.074029Z",
     "iopub.status.busy": "2025-01-02T01:38:42.073614Z",
     "iopub.status.idle": "2025-01-02T01:38:42.088477Z",
     "shell.execute_reply": "2025-01-02T01:38:42.087684Z"
    },
    "papermill": {
     "duration": 0.032259,
     "end_time": "2025-01-02T01:38:42.090127",
     "exception": false,
     "start_time": "2025-01-02T01:38:42.057868",
     "status": "completed"
    },
    "tags": []
   },
   "outputs": [
    {
     "data": {
      "text/html": [
       "<div>\n",
       "<style scoped>\n",
       "    .dataframe tbody tr th:only-of-type {\n",
       "        vertical-align: middle;\n",
       "    }\n",
       "\n",
       "    .dataframe tbody tr th {\n",
       "        vertical-align: top;\n",
       "    }\n",
       "\n",
       "    .dataframe thead th {\n",
       "        text-align: right;\n",
       "    }\n",
       "</style>\n",
       "<table border=\"1\" class=\"dataframe\">\n",
       "  <thead>\n",
       "    <tr style=\"text-align: right;\">\n",
       "      <th>cabin_letter</th>\n",
       "      <th>A</th>\n",
       "      <th>B</th>\n",
       "      <th>C</th>\n",
       "      <th>D</th>\n",
       "      <th>E</th>\n",
       "      <th>F</th>\n",
       "      <th>G</th>\n",
       "      <th>T</th>\n",
       "      <th>n</th>\n",
       "    </tr>\n",
       "    <tr>\n",
       "      <th>Survived</th>\n",
       "      <th></th>\n",
       "      <th></th>\n",
       "      <th></th>\n",
       "      <th></th>\n",
       "      <th></th>\n",
       "      <th></th>\n",
       "      <th></th>\n",
       "      <th></th>\n",
       "      <th></th>\n",
       "    </tr>\n",
       "  </thead>\n",
       "  <tbody>\n",
       "    <tr>\n",
       "      <th>0</th>\n",
       "      <td>8</td>\n",
       "      <td>12</td>\n",
       "      <td>24</td>\n",
       "      <td>8</td>\n",
       "      <td>8</td>\n",
       "      <td>5</td>\n",
       "      <td>2</td>\n",
       "      <td>1</td>\n",
       "      <td>481</td>\n",
       "    </tr>\n",
       "    <tr>\n",
       "      <th>1</th>\n",
       "      <td>7</td>\n",
       "      <td>35</td>\n",
       "      <td>35</td>\n",
       "      <td>25</td>\n",
       "      <td>24</td>\n",
       "      <td>8</td>\n",
       "      <td>2</td>\n",
       "      <td>0</td>\n",
       "      <td>206</td>\n",
       "    </tr>\n",
       "  </tbody>\n",
       "</table>\n",
       "</div>"
      ],
      "text/plain": [
       "cabin_letter  A   B   C   D   E  F  G  T    n\n",
       "Survived                                     \n",
       "0             8  12  24   8   8  5  2  1  481\n",
       "1             7  35  35  25  24  8  2  0  206"
      ]
     },
     "execution_count": 18,
     "metadata": {},
     "output_type": "execute_result"
    }
   ],
   "source": [
    "#Print out a pivot table comparing survival rate and their cabin letter\n",
    "#Where 'n' is na - people that did not have a cabin assigned in the data.\n",
    "train_data.groupby('Survived')[['cabin_letter']].value_counts().unstack(fill_value=0)"
   ]
  },
  {
   "cell_type": "markdown",
   "id": "fc38b939",
   "metadata": {
    "papermill": {
     "duration": 0.016222,
     "end_time": "2025-01-02T01:38:42.122091",
     "exception": false,
     "start_time": "2025-01-02T01:38:42.105869",
     "status": "completed"
    },
    "tags": []
   },
   "source": [
    "* Majority of the people that had no assigned cabin in the data did not survive\n",
    "* In terms of non-null values (A - T), we can see that there are more people who survived"
   ]
  },
  {
   "cell_type": "markdown",
   "id": "457b9e6f",
   "metadata": {
    "papermill": {
     "duration": 0.015973,
     "end_time": "2025-01-02T01:38:42.154238",
     "exception": false,
     "start_time": "2025-01-02T01:38:42.138265",
     "status": "completed"
    },
    "tags": []
   },
   "source": [
    "**Now we can take a look at the 'ticket' values**"
   ]
  },
  {
   "cell_type": "code",
   "execution_count": 19,
   "id": "31d10ef1",
   "metadata": {
    "execution": {
     "iopub.execute_input": "2025-01-02T01:38:42.186709Z",
     "iopub.status.busy": "2025-01-02T01:38:42.186364Z",
     "iopub.status.idle": "2025-01-02T01:38:42.192906Z",
     "shell.execute_reply": "2025-01-02T01:38:42.192140Z"
    },
    "papermill": {
     "duration": 0.024659,
     "end_time": "2025-01-02T01:38:42.194306",
     "exception": false,
     "start_time": "2025-01-02T01:38:42.169647",
     "status": "completed"
    },
    "tags": []
   },
   "outputs": [],
   "source": [
    "#It's worth trying to play around with the ticket values to see if this affected survival rate\n",
    "#One way to do this is comparing the different tickets and comparing the ones with numbers and ones with letters + numbers\n",
    "\n",
    "# Let's split it up into numeric = 1 when there is only numbers in the ticker and = 0 when numbers with letters involved\n",
    "train_data['numbers_ticket'] = train_data.Ticket.apply(lambda x : 1 if x.isnumeric() else 0)\n",
    "#Let's extract the ticket letters: split data into a list of substrings, then remove the last element(the number), remove the '.s', remove the /s, this only happens if length of list is > 0\n",
    "train_data['letters_ticket'] = train_data.Ticket.apply(lambda x : ' '.join(x.split(' ')[:-1]).replace('.','').replace('/','').lower() if len (x.split(' ')[:-1]) > 0 else 0)"
   ]
  },
  {
   "cell_type": "code",
   "execution_count": 20,
   "id": "3c10fd20",
   "metadata": {
    "execution": {
     "iopub.execute_input": "2025-01-02T01:38:42.225907Z",
     "iopub.status.busy": "2025-01-02T01:38:42.225621Z",
     "iopub.status.idle": "2025-01-02T01:38:42.231701Z",
     "shell.execute_reply": "2025-01-02T01:38:42.230857Z"
    },
    "papermill": {
     "duration": 0.023884,
     "end_time": "2025-01-02T01:38:42.233080",
     "exception": false,
     "start_time": "2025-01-02T01:38:42.209196",
     "status": "completed"
    },
    "tags": []
   },
   "outputs": [
    {
     "data": {
      "text/plain": [
       "numbers_ticket\n",
       "1    661\n",
       "0    230\n",
       "Name: count, dtype: int64"
      ]
     },
     "execution_count": 20,
     "metadata": {},
     "output_type": "execute_result"
    }
   ],
   "source": [
    "train_data['numbers_ticket'].value_counts()\n",
    "#There are 661 tickets with only numbers\n",
    "#There are 230 tickets with strings involved (letters)"
   ]
  },
  {
   "cell_type": "code",
   "execution_count": 21,
   "id": "febd8727",
   "metadata": {
    "execution": {
     "iopub.execute_input": "2025-01-02T01:38:42.264018Z",
     "iopub.status.busy": "2025-01-02T01:38:42.263733Z",
     "iopub.status.idle": "2025-01-02T01:38:42.275889Z",
     "shell.execute_reply": "2025-01-02T01:38:42.274940Z"
    },
    "papermill": {
     "duration": 0.029218,
     "end_time": "2025-01-02T01:38:42.277355",
     "exception": false,
     "start_time": "2025-01-02T01:38:42.248137",
     "status": "completed"
    },
    "tags": []
   },
   "outputs": [
    {
     "data": {
      "text/html": [
       "<div>\n",
       "<style scoped>\n",
       "    .dataframe tbody tr th:only-of-type {\n",
       "        vertical-align: middle;\n",
       "    }\n",
       "\n",
       "    .dataframe tbody tr th {\n",
       "        vertical-align: top;\n",
       "    }\n",
       "\n",
       "    .dataframe thead th {\n",
       "        text-align: right;\n",
       "    }\n",
       "</style>\n",
       "<table border=\"1\" class=\"dataframe\">\n",
       "  <thead>\n",
       "    <tr style=\"text-align: right;\">\n",
       "      <th>numbers_ticket</th>\n",
       "      <th>0</th>\n",
       "      <th>1</th>\n",
       "    </tr>\n",
       "    <tr>\n",
       "      <th>Survived</th>\n",
       "      <th></th>\n",
       "      <th></th>\n",
       "    </tr>\n",
       "  </thead>\n",
       "  <tbody>\n",
       "    <tr>\n",
       "      <th>0</th>\n",
       "      <td>142</td>\n",
       "      <td>407</td>\n",
       "    </tr>\n",
       "    <tr>\n",
       "      <th>1</th>\n",
       "      <td>88</td>\n",
       "      <td>254</td>\n",
       "    </tr>\n",
       "  </tbody>\n",
       "</table>\n",
       "</div>"
      ],
      "text/plain": [
       "numbers_ticket    0    1\n",
       "Survived                \n",
       "0               142  407\n",
       "1                88  254"
      ]
     },
     "execution_count": 21,
     "metadata": {},
     "output_type": "execute_result"
    }
   ],
   "source": [
    "#Let's print out tickets only containing numbers and their relationship with survival rate\n",
    "train_data.groupby('Survived')[['numbers_ticket']].value_counts().unstack(fill_value=0)\n",
    "#We can see that the ratios of people who survived and didnt with people who had numbers contained in their ticket or not is similar so probably not going to be considered for model"
   ]
  },
  {
   "cell_type": "code",
   "execution_count": 22,
   "id": "abf358b7",
   "metadata": {
    "execution": {
     "iopub.execute_input": "2025-01-02T01:38:42.309250Z",
     "iopub.status.busy": "2025-01-02T01:38:42.308969Z",
     "iopub.status.idle": "2025-01-02T01:38:42.325769Z",
     "shell.execute_reply": "2025-01-02T01:38:42.324964Z"
    },
    "papermill": {
     "duration": 0.034526,
     "end_time": "2025-01-02T01:38:42.327310",
     "exception": false,
     "start_time": "2025-01-02T01:38:42.292784",
     "status": "completed"
    },
    "tags": []
   },
   "outputs": [
    {
     "data": {
      "text/html": [
       "<div>\n",
       "<style scoped>\n",
       "    .dataframe tbody tr th:only-of-type {\n",
       "        vertical-align: middle;\n",
       "    }\n",
       "\n",
       "    .dataframe tbody tr th {\n",
       "        vertical-align: top;\n",
       "    }\n",
       "\n",
       "    .dataframe thead th {\n",
       "        text-align: right;\n",
       "    }\n",
       "</style>\n",
       "<table border=\"1\" class=\"dataframe\">\n",
       "  <thead>\n",
       "    <tr style=\"text-align: right;\">\n",
       "      <th>letters_ticket</th>\n",
       "      <th>0</th>\n",
       "      <th>a4</th>\n",
       "      <th>a5</th>\n",
       "      <th>as</th>\n",
       "      <th>c</th>\n",
       "      <th>ca</th>\n",
       "      <th>casoton</th>\n",
       "      <th>fa</th>\n",
       "      <th>fc</th>\n",
       "      <th>fcc</th>\n",
       "      <th>...</th>\n",
       "      <th>sop</th>\n",
       "      <th>sopp</th>\n",
       "      <th>sotono2</th>\n",
       "      <th>sotonoq</th>\n",
       "      <th>sp</th>\n",
       "      <th>stono 2</th>\n",
       "      <th>stono2</th>\n",
       "      <th>swpp</th>\n",
       "      <th>wc</th>\n",
       "      <th>wep</th>\n",
       "    </tr>\n",
       "    <tr>\n",
       "      <th>Survived</th>\n",
       "      <th></th>\n",
       "      <th></th>\n",
       "      <th></th>\n",
       "      <th></th>\n",
       "      <th></th>\n",
       "      <th></th>\n",
       "      <th></th>\n",
       "      <th></th>\n",
       "      <th></th>\n",
       "      <th></th>\n",
       "      <th></th>\n",
       "      <th></th>\n",
       "      <th></th>\n",
       "      <th></th>\n",
       "      <th></th>\n",
       "      <th></th>\n",
       "      <th></th>\n",
       "      <th></th>\n",
       "      <th></th>\n",
       "      <th></th>\n",
       "      <th></th>\n",
       "    </tr>\n",
       "  </thead>\n",
       "  <tbody>\n",
       "    <tr>\n",
       "      <th>0</th>\n",
       "      <td>410</td>\n",
       "      <td>7</td>\n",
       "      <td>19</td>\n",
       "      <td>1</td>\n",
       "      <td>3</td>\n",
       "      <td>27</td>\n",
       "      <td>1</td>\n",
       "      <td>1</td>\n",
       "      <td>1</td>\n",
       "      <td>1</td>\n",
       "      <td>...</td>\n",
       "      <td>1</td>\n",
       "      <td>3</td>\n",
       "      <td>2</td>\n",
       "      <td>13</td>\n",
       "      <td>1</td>\n",
       "      <td>7</td>\n",
       "      <td>3</td>\n",
       "      <td>0</td>\n",
       "      <td>9</td>\n",
       "      <td>2</td>\n",
       "    </tr>\n",
       "    <tr>\n",
       "      <th>1</th>\n",
       "      <td>255</td>\n",
       "      <td>0</td>\n",
       "      <td>2</td>\n",
       "      <td>0</td>\n",
       "      <td>2</td>\n",
       "      <td>14</td>\n",
       "      <td>0</td>\n",
       "      <td>0</td>\n",
       "      <td>0</td>\n",
       "      <td>4</td>\n",
       "      <td>...</td>\n",
       "      <td>0</td>\n",
       "      <td>0</td>\n",
       "      <td>0</td>\n",
       "      <td>2</td>\n",
       "      <td>0</td>\n",
       "      <td>5</td>\n",
       "      <td>3</td>\n",
       "      <td>2</td>\n",
       "      <td>1</td>\n",
       "      <td>1</td>\n",
       "    </tr>\n",
       "  </tbody>\n",
       "</table>\n",
       "<p>2 rows × 30 columns</p>\n",
       "</div>"
      ],
      "text/plain": [
       "letters_ticket    0  a4  a5  as  c  ca  casoton  fa  fc  fcc  ...  sop  sopp  \\\n",
       "Survived                                                      ...              \n",
       "0               410   7  19   1  3  27        1   1   1    1  ...    1     3   \n",
       "1               255   0   2   0  2  14        0   0   0    4  ...    0     0   \n",
       "\n",
       "letters_ticket  sotono2  sotonoq  sp  stono 2  stono2  swpp  wc  wep  \n",
       "Survived                                                              \n",
       "0                     2       13   1        7       3     0   9    2  \n",
       "1                     0        2   0        5       3     2   1    1  \n",
       "\n",
       "[2 rows x 30 columns]"
      ]
     },
     "execution_count": 22,
     "metadata": {},
     "output_type": "execute_result"
    }
   ],
   "source": [
    "#Let's print out tickets that contains letters and their relationship with survival rate\n",
    "train_data.groupby('Survived')[['letters_ticket']].value_counts().unstack(fill_value=0)\n",
    "#Very difficult to see anything relevant to survival in terms of different ticket\n",
    "#Could take a look at it again later"
   ]
  },
  {
   "cell_type": "markdown",
   "id": "06d8ccae",
   "metadata": {
    "papermill": {
     "duration": 0.016351,
     "end_time": "2025-01-02T01:38:42.360310",
     "exception": false,
     "start_time": "2025-01-02T01:38:42.343959",
     "status": "completed"
    },
    "tags": []
   },
   "source": [
    "**We could further look into people's titles associated with their name and compare their survivability**\n",
    "* Mr.\n",
    "* Mrs.\n",
    "* Major\n",
    "* Captain\n",
    "* etc."
   ]
  },
  {
   "cell_type": "code",
   "execution_count": 23,
   "id": "3b3b0ee3",
   "metadata": {
    "execution": {
     "iopub.execute_input": "2025-01-02T01:38:42.394030Z",
     "iopub.status.busy": "2025-01-02T01:38:42.393656Z",
     "iopub.status.idle": "2025-01-02T01:38:42.401817Z",
     "shell.execute_reply": "2025-01-02T01:38:42.400956Z"
    },
    "papermill": {
     "duration": 0.026724,
     "end_time": "2025-01-02T01:38:42.403244",
     "exception": false,
     "start_time": "2025-01-02T01:38:42.376520",
     "status": "completed"
    },
    "tags": []
   },
   "outputs": [
    {
     "data": {
      "text/plain": [
       "title_name\n",
       "Mr              517\n",
       "Miss            182\n",
       "Mrs             125\n",
       "Master           40\n",
       "Dr                7\n",
       "Rev               6\n",
       "Mlle              2\n",
       "Major             2\n",
       "Col               2\n",
       "the Countess      1\n",
       "Capt              1\n",
       "Ms                1\n",
       "Sir               1\n",
       "Lady              1\n",
       "Mme               1\n",
       "Don               1\n",
       "Jonkheer          1\n",
       "Name: count, dtype: int64"
      ]
     },
     "execution_count": 23,
     "metadata": {},
     "output_type": "execute_result"
    }
   ],
   "source": [
    "#We can extract their titles by realizing that there is a comma before their title in their values\n",
    "train_data['title_name'] = train_data.Name.apply(lambda x : x.split(',')[1].split('.')[0].strip())\n",
    "\n",
    "train_data['title_name'].value_counts()"
   ]
  },
  {
   "cell_type": "markdown",
   "id": "c558260f",
   "metadata": {
    "papermill": {
     "duration": 0.015373,
     "end_time": "2025-01-02T01:38:42.434511",
     "exception": false,
     "start_time": "2025-01-02T01:38:42.419138",
     "status": "completed"
    },
    "tags": []
   },
   "source": [
    "**Attempt at understanding and building a model for prediction of survival:**\n",
    "* Features to include in model including the pivot table features we created: 'Pclass', 'Sex', 'Age', 'SibSp', 'Parch', 'Fare', 'Embarked', 'cabin_letter', 'cabin_multiple', 'numbers_ticket','title_name'. We will decide to exclude name and passengerId since the features above are more significant to look at\n",
    "\n",
    "* How we will handle missing/null data:\n",
    "   1. Drop for Embarked since we only have 2 null\n",
    "   2. Impute mean missing values for fare and age. We will fill in the NA values with the mean of the training data\n",
    "\n",
    "* Categorical transform on all data (copy what we did for training data) - This ensures our train and test data will have the same columns and allows for our model to use it.\n",
    "\n",
    "* Normalize fare to get value for model to better see the patterns"
   ]
  },
  {
   "cell_type": "code",
   "execution_count": 24,
   "id": "aaded98a",
   "metadata": {
    "execution": {
     "iopub.execute_input": "2025-01-02T01:38:42.467112Z",
     "iopub.status.busy": "2025-01-02T01:38:42.466754Z",
     "iopub.status.idle": "2025-01-02T01:38:42.734686Z",
     "shell.execute_reply": "2025-01-02T01:38:42.733820Z"
    },
    "papermill": {
     "duration": 0.285699,
     "end_time": "2025-01-02T01:38:42.736289",
     "exception": false,
     "start_time": "2025-01-02T01:38:42.450590",
     "status": "completed"
    },
    "tags": []
   },
   "outputs": [
    {
     "data": {
      "image/png": "[encoded data removed]",
      "text/plain": [
       "<Figure size 640x480 with 1 Axes>"
      ]
     },
     "metadata": {},
     "output_type": "display_data"
    }
   ],
   "source": [
    "#Declare and assign new categorical variables for both train and test for model\n",
    "all_data['cabin_multiple'] = all_data.Cabin.apply(lambda x: 0 if pd.isna(x) else len(x.split(' ')))\n",
    "all_data['cabin_letter'] = all_data.Cabin.apply(lambda x: str(x)[0])\n",
    "all_data['numbers_ticket'] = all_data.Ticket.apply(lambda x: 1 if x.isnumeric() else 0)\n",
    "all_data['letters_ticket'] = all_data.Ticket.apply(lambda x: ''.join(x.split(' ')[:-1]).replace('.','').replace('/','').lower() if len(x.split(' ')[:-1]) >0 else 0)\n",
    "all_data['title_name'] = all_data.Name.apply(lambda x: x.split(',')[1].split('.')[0].strip())\n",
    "                                               \n",
    "#Drop null values for the embarked column\n",
    "all_data.dropna(subset=['Embarked'], inplace=True)\n",
    "\n",
    "#Impute fare and age with mean\n",
    "all_data.Age = all_data.Age.fillna(all_data.Age.mean())\n",
    "all_data.Fare = all_data.Fare.fillna(all_data.Fare.mean())\n",
    "\n",
    "#normalize fare to get ~a normal distribution, used in data processing to compress a skewed distribution. \n",
    "#Since Fare values tend to be heavily skewed (with a small number of high-value fares), \n",
    "#applying a log transformation reduces the impact of extreme values and helps in making the data more normally distributed.\n",
    "all_data['normal_fare'] = np.log(all_data.Fare+1) #Add 1 since values with 0 fare causes an error \n",
    "all_data['normal_fare'].hist()\n",
    "\n",
    "all_data.Pclass = all_data.Pclass.astype(str)\n",
    "\n",
    "#We will use getdummies() in pandas since models typically require numeric inputs.\n",
    "#One-hot encoding is a process that converts categorical values into binary columns: 0,1 \n",
    "all_dummies = pd.get_dummies(all_data[['Pclass', 'Sex', 'Age', 'SibSp', 'Parch', 'Ticket', 'normal_fare', \n",
    "                                       'Embarked', 'cabin_multiple', 'numbers_ticket', 'title_name', 'train_test']])\n",
    "\n",
    "#Finally, we will split data into our train and test variables for X and y\n",
    "#we will use the train_test column where 1 represents training data and 0 represents it isnt (test data)\n",
    "X_train = all_dummies[all_dummies.train_test == 1].drop(['train_test'], axis = 1)\n",
    "X_test = all_dummies[all_dummies.train_test == 0].drop(['train_test'], axis = 1)\n",
    "\n",
    "#Our target variable. Access the survived column for all the training data only since this is our target variable for model\n",
    "y_train = all_data[all_data.train_test == 1].Survived"
   ]
  },
  {
   "cell_type": "markdown",
   "id": "ffef0ef6",
   "metadata": {
    "papermill": {
     "duration": 0.015632,
     "end_time": "2025-01-02T01:38:42.769199",
     "exception": false,
     "start_time": "2025-01-02T01:38:42.753567",
     "status": "completed"
    },
    "tags": []
   },
   "source": [
    "Notice that fare is not a bit more normally distributed so easier for model to use"
   ]
  },
  {
   "cell_type": "markdown",
   "id": "81b8a050",
   "metadata": {
    "papermill": {
     "duration": 0.015807,
     "end_time": "2025-01-02T01:38:42.800891",
     "exception": false,
     "start_time": "2025-01-02T01:38:42.785084",
     "status": "completed"
    },
    "tags": []
   },
   "source": [
    "**We will experiment with the different models and use trial and error / experimenting to observe how they perform**\n",
    "* Use cross validation - gets samples from training data and predicts on the data given\n",
    "* "
   ]
  },
  {
   "cell_type": "code",
   "execution_count": 25,
   "id": "118f6ffe",
   "metadata": {
    "execution": {
     "iopub.execute_input": "2025-01-02T01:38:42.832835Z",
     "iopub.status.busy": "2025-01-02T01:38:42.832512Z",
     "iopub.status.idle": "2025-01-02T01:38:42.979039Z",
     "shell.execute_reply": "2025-01-02T01:38:42.978211Z"
    },
    "papermill": {
     "duration": 0.16463,
     "end_time": "2025-01-02T01:38:42.980840",
     "exception": false,
     "start_time": "2025-01-02T01:38:42.816210",
     "status": "completed"
    },
    "tags": []
   },
   "outputs": [],
   "source": [
    "#Scale the data\n",
    "from sklearn.preprocessing import StandardScaler\n",
    "scale = StandardScaler()\n",
    "all_dummies_scaled = all_dummies.copy()\n",
    "all_dummies_scaled[['Age','SibSp','Parch','normal_fare']] = scale.fit_transform(all_dummies_scaled[['Age','SibSp','Parch','normal_fare']])\n",
    "all_dummies_scaled\n",
    "\n",
    "X_train_scaled = all_dummies_scaled[all_dummies_scaled.train_test == 1].drop(['train_test'], axis =1)\n",
    "X_test_scaled = all_dummies_scaled[all_dummies_scaled.train_test == 0].drop(['train_test'], axis =1)\n",
    "\n",
    "y_train = all_data[all_data.train_test==1].Survived"
   ]
  },
  {
   "cell_type": "code",
   "execution_count": 26,
   "id": "d1c53eab",
   "metadata": {
    "execution": {
     "iopub.execute_input": "2025-01-02T01:38:43.015953Z",
     "iopub.status.busy": "2025-01-02T01:38:43.015562Z",
     "iopub.status.idle": "2025-01-02T01:38:43.416736Z",
     "shell.execute_reply": "2025-01-02T01:38:43.415965Z"
    },
    "papermill": {
     "duration": 0.420464,
     "end_time": "2025-01-02T01:38:43.418393",
     "exception": false,
     "start_time": "2025-01-02T01:38:42.997929",
     "status": "completed"
    },
    "tags": []
   },
   "outputs": [],
   "source": [
    "from sklearn.model_selection import cross_val_score\n",
    "from sklearn.naive_bayes import GaussianNB\n",
    "from sklearn.linear_model import LogisticRegression\n",
    "from sklearn import tree\n",
    "from sklearn.neighbors import KNeighborsClassifier\n",
    "from sklearn.ensemble import RandomForestClassifier\n",
    "from sklearn.svm import SVC"
   ]
  },
  {
   "cell_type": "code",
   "execution_count": 27,
   "id": "c648814e",
   "metadata": {
    "execution": {
     "iopub.execute_input": "2025-01-02T01:38:43.452463Z",
     "iopub.status.busy": "2025-01-02T01:38:43.452178Z",
     "iopub.status.idle": "2025-01-02T01:38:43.601330Z",
     "shell.execute_reply": "2025-01-02T01:38:43.600268Z"
    },
    "papermill": {
     "duration": 0.167646,
     "end_time": "2025-01-02T01:38:43.602748",
     "exception": false,
     "start_time": "2025-01-02T01:38:43.435102",
     "status": "completed"
    },
    "tags": []
   },
   "outputs": [
    {
     "name": "stdout",
     "output_type": "stream",
     "text": [
      "[0.50561798 0.42696629 0.4494382  0.47752809 0.47457627]\n",
      "0.4668253665968387\n"
     ]
    }
   ],
   "source": [
    "#It's good to have a baseline for classification and reference to compare how good the other models do. Using Naive Bayes model as base\n",
    "gnb = GaussianNB()\n",
    "cv = cross_val_score(gnb, X_train_scaled, y_train, cv = 5)\n",
    "print(cv)\n",
    "print(cv.mean())"
   ]
  },
  {
   "cell_type": "code",
   "execution_count": 28,
   "id": "ca25ab84",
   "metadata": {
    "execution": {
     "iopub.execute_input": "2025-01-02T01:38:43.637495Z",
     "iopub.status.busy": "2025-01-02T01:38:43.637179Z",
     "iopub.status.idle": "2025-01-02T01:38:45.520339Z",
     "shell.execute_reply": "2025-01-02T01:38:45.518372Z"
    },
    "papermill": {
     "duration": 1.903806,
     "end_time": "2025-01-02T01:38:45.523195",
     "exception": false,
     "start_time": "2025-01-02T01:38:43.619389",
     "status": "completed"
    },
    "tags": []
   },
   "outputs": [
    {
     "name": "stdout",
     "output_type": "stream",
     "text": [
      "[0.8258427  0.83146067 0.80337079 0.81460674 0.8700565 ]\n",
      "0.8290674792103092\n"
     ]
    }
   ],
   "source": [
    "lr = LogisticRegression(max_iter = 2000)\n",
    "cv = cross_val_score(lr,X_train,y_train,cv=5)\n",
    "print(cv)\n",
    "print(cv.mean())"
   ]
  },
  {
   "cell_type": "code",
   "execution_count": 29,
   "id": "319a1dfa",
   "metadata": {
    "execution": {
     "iopub.execute_input": "2025-01-02T01:38:45.621368Z",
     "iopub.status.busy": "2025-01-02T01:38:45.620788Z",
     "iopub.status.idle": "2025-01-02T01:38:45.795851Z",
     "shell.execute_reply": "2025-01-02T01:38:45.794898Z"
    },
    "papermill": {
     "duration": 0.224702,
     "end_time": "2025-01-02T01:38:45.797440",
     "exception": false,
     "start_time": "2025-01-02T01:38:45.572738",
     "status": "completed"
    },
    "tags": []
   },
   "outputs": [
    {
     "name": "stdout",
     "output_type": "stream",
     "text": [
      "[0.80337079 0.83707865 0.85955056 0.79213483 0.82485876]\n",
      "0.8233987177045643\n"
     ]
    }
   ],
   "source": [
    "dt = tree.DecisionTreeClassifier(random_state = 1)\n",
    "cv = cross_val_score(dt,X_train,y_train,cv=5)\n",
    "print(cv)\n",
    "print(cv.mean())"
   ]
  },
  {
   "cell_type": "code",
   "execution_count": 30,
   "id": "36c3abd2",
   "metadata": {
    "execution": {
     "iopub.execute_input": "2025-01-02T01:38:45.831547Z",
     "iopub.status.busy": "2025-01-02T01:38:45.831235Z",
     "iopub.status.idle": "2025-01-02T01:38:46.057731Z",
     "shell.execute_reply": "2025-01-02T01:38:46.056772Z"
    },
    "papermill": {
     "duration": 0.244931,
     "end_time": "2025-01-02T01:38:46.059189",
     "exception": false,
     "start_time": "2025-01-02T01:38:45.814258",
     "status": "completed"
    },
    "tags": []
   },
   "outputs": [
    {
     "name": "stdout",
     "output_type": "stream",
     "text": [
      "[0.76966292 0.80337079 0.80337079 0.8258427  0.83050847]\n",
      "0.8065511331175014\n"
     ]
    }
   ],
   "source": [
    "knn = KNeighborsClassifier()\n",
    "cv = cross_val_score(knn,X_train,y_train,cv=5)\n",
    "print(cv)\n",
    "print(cv.mean())"
   ]
  },
  {
   "cell_type": "code",
   "execution_count": 31,
   "id": "54f7640b",
   "metadata": {
    "execution": {
     "iopub.execute_input": "2025-01-02T01:38:46.093577Z",
     "iopub.status.busy": "2025-01-02T01:38:46.093239Z",
     "iopub.status.idle": "2025-01-02T01:38:47.827402Z",
     "shell.execute_reply": "2025-01-02T01:38:47.826291Z"
    },
    "papermill": {
     "duration": 1.753426,
     "end_time": "2025-01-02T01:38:47.829143",
     "exception": false,
     "start_time": "2025-01-02T01:38:46.075717",
     "status": "completed"
    },
    "tags": []
   },
   "outputs": [
    {
     "name": "stdout",
     "output_type": "stream",
     "text": [
      "[0.85393258 0.80337079 0.84269663 0.79213483 0.86440678]\n",
      "0.8313083222243384\n"
     ]
    }
   ],
   "source": [
    "rf = RandomForestClassifier(random_state = 1)\n",
    "cv = cross_val_score(rf,X_train,y_train,cv=5)\n",
    "print(cv)\n",
    "print(cv.mean())"
   ]
  },
  {
   "cell_type": "code",
   "execution_count": 32,
   "id": "6d00e6f6",
   "metadata": {
    "execution": {
     "iopub.execute_input": "2025-01-02T01:38:47.865710Z",
     "iopub.status.busy": "2025-01-02T01:38:47.865372Z",
     "iopub.status.idle": "2025-01-02T01:38:52.244607Z",
     "shell.execute_reply": "2025-01-02T01:38:52.243473Z"
    },
    "papermill": {
     "duration": 4.39809,
     "end_time": "2025-01-02T01:38:52.246238",
     "exception": false,
     "start_time": "2025-01-02T01:38:47.848148",
     "status": "completed"
    },
    "tags": []
   },
   "outputs": [
    {
     "name": "stdout",
     "output_type": "stream",
     "text": [
      "[0.84831461 0.82022472 0.8258427  0.80337079 0.85875706]\n",
      "0.8313019742271314\n"
     ]
    }
   ],
   "source": [
    "svc = SVC(probability = True)\n",
    "cv = cross_val_score(svc,X_train_scaled,y_train,cv=5)\n",
    "print(cv)\n",
    "print(cv.mean())"
   ]
  },
  {
   "cell_type": "code",
   "execution_count": 33,
   "id": "79232634",
   "metadata": {
    "execution": {
     "iopub.execute_input": "2025-01-02T01:38:52.282234Z",
     "iopub.status.busy": "2025-01-02T01:38:52.281908Z",
     "iopub.status.idle": "2025-01-02T01:38:55.888859Z",
     "shell.execute_reply": "2025-01-02T01:38:55.886846Z"
    },
    "papermill": {
     "duration": 3.626772,
     "end_time": "2025-01-02T01:38:55.890542",
     "exception": false,
     "start_time": "2025-01-02T01:38:52.263770",
     "status": "completed"
    },
    "tags": []
   },
   "outputs": [
    {
     "name": "stdout",
     "output_type": "stream",
     "text": [
      "[0.80337079 0.80337079 0.85393258 0.78651685 0.81355932]\n",
      "0.8121500666539706\n"
     ]
    }
   ],
   "source": [
    "from xgboost import XGBClassifier\n",
    "xgb = XGBClassifier(random_state =1)\n",
    "cv = cross_val_score(xgb,X_train_scaled,y_train,cv=5)\n",
    "print(cv)\n",
    "print(cv.mean())"
   ]
  },
  {
   "cell_type": "code",
   "execution_count": 34,
   "id": "f4ce5c92",
   "metadata": {
    "execution": {
     "iopub.execute_input": "2025-01-02T01:38:55.927822Z",
     "iopub.status.busy": "2025-01-02T01:38:55.927493Z",
     "iopub.status.idle": "2025-01-02T01:38:55.931735Z",
     "shell.execute_reply": "2025-01-02T01:38:55.931029Z"
    },
    "papermill": {
     "duration": 0.023313,
     "end_time": "2025-01-02T01:38:55.932972",
     "exception": false,
     "start_time": "2025-01-02T01:38:55.909659",
     "status": "completed"
    },
    "tags": []
   },
   "outputs": [],
   "source": [
    "#Voting classifier takes all of the inputs and averages the results. For a \"hard\" voting classifier each classifier gets 1 vote \"yes\" or \"no\" and the result is just a popular vote. For this, you generally want odd numbers\n",
    "#A \"soft\" classifier averages the confidence of each of the models. If a the average confidence is > 50% that it is a 1 it will be counted as such\n",
    "from sklearn.ensemble import VotingClassifier\n",
    "voting_clf = VotingClassifier(estimators = [('lr',lr),('knn',knn),('rf',rf),('gnb',gnb),('svc',svc),('xgb',xgb)], voting = 'soft') \n",
    "#Here we use soft so we will get a probabiltiy (confidence) from each model if a person survived or not"
   ]
  },
  {
   "cell_type": "code",
   "execution_count": 35,
   "id": "f71a4020",
   "metadata": {
    "execution": {
     "iopub.execute_input": "2025-01-02T01:38:55.966695Z",
     "iopub.status.busy": "2025-01-02T01:38:55.966413Z",
     "iopub.status.idle": "2025-01-02T01:39:06.630318Z",
     "shell.execute_reply": "2025-01-02T01:39:06.628212Z"
    },
    "papermill": {
     "duration": 10.68263,
     "end_time": "2025-01-02T01:39:06.632111",
     "exception": false,
     "start_time": "2025-01-02T01:38:55.949481",
     "status": "completed"
    },
    "tags": []
   },
   "outputs": [
    {
     "name": "stdout",
     "output_type": "stream",
     "text": [
      "[0.85393258 0.81460674 0.85393258 0.81460674 0.86440678]\n",
      "0.840297086269282\n"
     ]
    }
   ],
   "source": [
    "#Cross validation score for voting classifier\n",
    "cv = cross_val_score(voting_clf,X_train_scaled,y_train,cv=5)\n",
    "print(cv)\n",
    "print(cv.mean())"
   ]
  },
  {
   "cell_type": "code",
   "execution_count": 36,
   "id": "5df6cd16",
   "metadata": {
    "execution": {
     "iopub.execute_input": "2025-01-02T01:39:06.669281Z",
     "iopub.status.busy": "2025-01-02T01:39:06.668973Z",
     "iopub.status.idle": "2025-01-02T01:39:06.675596Z",
     "shell.execute_reply": "2025-01-02T01:39:06.674472Z"
    },
    "papermill": {
     "duration": 0.02587,
     "end_time": "2025-01-02T01:39:06.677208",
     "exception": false,
     "start_time": "2025-01-02T01:39:06.651338",
     "status": "completed"
    },
    "tags": []
   },
   "outputs": [
    {
     "name": "stdout",
     "output_type": "stream",
     "text": [
      "PassengerId          0\n",
      "Survived           418\n",
      "Pclass               0\n",
      "Name                 0\n",
      "Sex                  0\n",
      "Age                  0\n",
      "SibSp                0\n",
      "Parch                0\n",
      "Ticket               0\n",
      "Fare                 0\n",
      "Cabin             1014\n",
      "Embarked             0\n",
      "train_test           0\n",
      "cabin_multiple       0\n",
      "cabin_letter         0\n",
      "numbers_ticket       0\n",
      "letters_ticket       0\n",
      "title_name           0\n",
      "normal_fare          0\n",
      "dtype: int64\n"
     ]
    }
   ],
   "source": [
    "print(all_data.isna().sum()) "
   ]
  },
  {
   "cell_type": "code",
   "execution_count": 37,
   "id": "ff8e4171",
   "metadata": {
    "execution": {
     "iopub.execute_input": "2025-01-02T01:39:06.713452Z",
     "iopub.status.busy": "2025-01-02T01:39:06.713136Z",
     "iopub.status.idle": "2025-01-02T01:39:09.597720Z",
     "shell.execute_reply": "2025-01-02T01:39:09.596975Z"
    },
    "papermill": {
     "duration": 2.904888,
     "end_time": "2025-01-02T01:39:09.599736",
     "exception": false,
     "start_time": "2025-01-02T01:39:06.694848",
     "status": "completed"
    },
    "tags": []
   },
   "outputs": [],
   "source": [
    "voting_clf.fit(X_train_scaled,y_train)\n",
    "y_hat_base_vc = voting_clf.predict(X_test_scaled).astype(int)\n",
    "basic_submission = {'PassengerId': test_data.PassengerId, 'Survived': y_hat_base_vc}\n",
    "base_submission = pd.DataFrame(data=basic_submission)\n",
    "base_submission.to_csv('base_submission.csv', index=False)"
   ]
  },
  {
   "cell_type": "markdown",
   "id": "84596a3c",
   "metadata": {
    "papermill": {
     "duration": 0.016437,
     "end_time": "2025-01-02T01:39:09.635446",
     "exception": false,
     "start_time": "2025-01-02T01:39:09.619009",
     "status": "completed"
    },
    "tags": []
   },
   "source": [
    "**Cross-validation is a technique used to evaluate how well a model generalizes to unseen data: Here are the results from all the classifiers:**\n",
    "\n",
    "* Naive Bayes (47.1%)\n",
    "* Logistic Regression (82.8%)\n",
    "* Decision Tree (82.6%)\n",
    "* K Nearest Neighbor (76.9%)\n",
    "* Random Forest (82.5%)\n",
    "* Support Vector Classifier (83.2%)\n",
    "* Xtreme Gradient Boosting (81.7%)\n",
    "* Soft Voting Classifier - All Models (83.57%)"
   ]
  },
  {
   "cell_type": "markdown",
   "id": "1c24484c",
   "metadata": {
    "papermill": {
     "duration": 0.016562,
     "end_time": "2025-01-02T01:39:09.668679",
     "exception": false,
     "start_time": "2025-01-02T01:39:09.652117",
     "status": "completed"
    },
    "tags": []
   },
   "source": [
    "**Model Tuning**\n",
    "Let's see how much we can improve our models"
   ]
  },
  {
   "cell_type": "code",
   "execution_count": 38,
   "id": "2a2e65ba",
   "metadata": {
    "execution": {
     "iopub.execute_input": "2025-01-02T01:39:09.703575Z",
     "iopub.status.busy": "2025-01-02T01:39:09.703277Z",
     "iopub.status.idle": "2025-01-02T01:39:09.707005Z",
     "shell.execute_reply": "2025-01-02T01:39:09.706160Z"
    },
    "papermill": {
     "duration": 0.022879,
     "end_time": "2025-01-02T01:39:09.708391",
     "exception": false,
     "start_time": "2025-01-02T01:39:09.685512",
     "status": "completed"
    },
    "tags": []
   },
   "outputs": [],
   "source": [
    "from sklearn.model_selection import GridSearchCV \n",
    "from sklearn.model_selection import RandomizedSearchCV "
   ]
  },
  {
   "cell_type": "code",
   "execution_count": 39,
   "id": "86bdb634",
   "metadata": {
    "execution": {
     "iopub.execute_input": "2025-01-02T01:39:09.743083Z",
     "iopub.status.busy": "2025-01-02T01:39:09.742793Z",
     "iopub.status.idle": "2025-01-02T01:39:09.746703Z",
     "shell.execute_reply": "2025-01-02T01:39:09.745941Z"
    },
    "papermill": {
     "duration": 0.02252,
     "end_time": "2025-01-02T01:39:09.748070",
     "exception": false,
     "start_time": "2025-01-02T01:39:09.725550",
     "status": "completed"
    },
    "tags": []
   },
   "outputs": [],
   "source": [
    "#simple performance reporting function\n",
    "def clf_performance(classifier, model_name):\n",
    "    print(model_name)\n",
    "    print('Best Score: ' + str(classifier.best_score_))\n",
    "    print('Best Parameters: ' + str(classifier.best_params_))"
   ]
  },
  {
   "cell_type": "code",
   "execution_count": 40,
   "id": "2079a9e1",
   "metadata": {
    "execution": {
     "iopub.execute_input": "2025-01-02T01:39:09.784076Z",
     "iopub.status.busy": "2025-01-02T01:39:09.783722Z",
     "iopub.status.idle": "2025-01-02T01:39:14.239116Z",
     "shell.execute_reply": "2025-01-02T01:39:14.237734Z"
    },
    "papermill": {
     "duration": 4.47506,
     "end_time": "2025-01-02T01:39:14.240711",
     "exception": false,
     "start_time": "2025-01-02T01:39:09.765651",
     "status": "completed"
    },
    "tags": []
   },
   "outputs": [
    {
     "name": "stdout",
     "output_type": "stream",
     "text": [
      "Fitting 5 folds for each of 40 candidates, totalling 200 fits\n",
      "Logistic Regression\n",
      "Best Score: 0.8515393893226687\n",
      "Best Parameters: {'C': 78.47599703514607, 'max_iter': 2000, 'penalty': 'l1', 'solver': 'liblinear'}\n"
     ]
    }
   ],
   "source": [
    "lr = LogisticRegression()\n",
    "param_grid = {'max_iter' : [2000],\n",
    "              'penalty' : ['l1', 'l2'],\n",
    "              'C' : np.logspace(-4, 4, 20),\n",
    "              'solver' : ['liblinear']}\n",
    "\n",
    "clf_lr = GridSearchCV(lr, param_grid = param_grid, cv = 5, verbose = True, n_jobs = -1)\n",
    "best_clf_lr = clf_lr.fit(X_train_scaled,y_train)\n",
    "clf_performance(best_clf_lr,'Logistic Regression')"
   ]
  },
  {
   "cell_type": "code",
   "execution_count": 41,
   "id": "60bcba3c",
   "metadata": {
    "execution": {
     "iopub.execute_input": "2025-01-02T01:39:14.275813Z",
     "iopub.status.busy": "2025-01-02T01:39:14.275456Z",
     "iopub.status.idle": "2025-01-02T01:39:32.679912Z",
     "shell.execute_reply": "2025-01-02T01:39:32.678788Z"
    },
    "papermill": {
     "duration": 18.42385,
     "end_time": "2025-01-02T01:39:32.681673",
     "exception": false,
     "start_time": "2025-01-02T01:39:14.257823",
     "status": "completed"
    },
    "tags": []
   },
   "outputs": [
    {
     "name": "stdout",
     "output_type": "stream",
     "text": [
      "Fitting 5 folds for each of 48 candidates, totalling 240 fits\n",
      "KNN\n",
      "Best Score: 0.8279121437186567\n",
      "Best Parameters: {'algorithm': 'auto', 'n_neighbors': 9, 'p': 1, 'weights': 'distance'}\n"
     ]
    }
   ],
   "source": [
    "knn = KNeighborsClassifier()\n",
    "param_grid = {'n_neighbors' : [3,5,7,9],\n",
    "              'weights' : ['uniform', 'distance'],\n",
    "              'algorithm' : ['auto', 'ball_tree','kd_tree'],\n",
    "              'p' : [1,2]}\n",
    "clf_knn = GridSearchCV(knn, param_grid = param_grid, cv = 5, verbose = True, n_jobs = -1)\n",
    "best_clf_knn = clf_knn.fit(X_train_scaled,y_train)\n",
    "clf_performance(best_clf_knn,'KNN')"
   ]
  },
  {
   "cell_type": "code",
   "execution_count": 42,
   "id": "4bd7c77e",
   "metadata": {
    "execution": {
     "iopub.execute_input": "2025-01-02T01:39:32.719412Z",
     "iopub.status.busy": "2025-01-02T01:39:32.719092Z",
     "iopub.status.idle": "2025-01-02T01:41:44.382323Z",
     "shell.execute_reply": "2025-01-02T01:41:44.381184Z"
    },
    "papermill": {
     "duration": 131.702054,
     "end_time": "2025-01-02T01:41:44.401913",
     "exception": false,
     "start_time": "2025-01-02T01:39:32.699859",
     "status": "completed"
    },
    "tags": []
   },
   "outputs": [
    {
     "name": "stdout",
     "output_type": "stream",
     "text": [
      "Fitting 5 folds for each of 55 candidates, totalling 275 fits\n",
      "SVC\n",
      "Best Score: 0.8492985463086397\n",
      "Best Parameters: {'C': 1, 'kernel': 'linear'}\n"
     ]
    }
   ],
   "source": [
    "svc = SVC(probability = True)\n",
    "param_grid = tuned_parameters = [{'kernel': ['rbf'], 'gamma': [.1,.5,1,2,5,10],\n",
    "                                  'C': [.1, 1, 10, 100, 1000]},\n",
    "                                 {'kernel': ['linear'], 'C': [.1, 1, 10, 100, 1000]},\n",
    "                                 {'kernel': ['poly'], 'degree' : [2,3,4,5], 'C': [.1, 1, 10, 100, 1000]}]\n",
    "clf_svc = GridSearchCV(svc, param_grid = param_grid, cv = 5, verbose = True, n_jobs = -1)\n",
    "best_clf_svc = clf_svc.fit(X_train_scaled,y_train)\n",
    "clf_performance(best_clf_svc,'SVC')"
   ]
  },
  {
   "cell_type": "code",
   "execution_count": null,
   "id": "dccc4240",
   "metadata": {
    "papermill": {
     "duration": 0.017217,
     "end_time": "2025-01-02T01:41:44.436764",
     "exception": false,
     "start_time": "2025-01-02T01:41:44.419547",
     "status": "completed"
    },
    "tags": []
   },
   "outputs": [],
   "source": []
  }
 ],
 "metadata": {
  "kaggle": {
   "accelerator": "none",
   "dataSources": [
    {
     "databundleVersionId": 26502,
     "sourceId": 3136,
     "sourceType": "competition"
    }
   ],
   "dockerImageVersionId": 30822,
   "isGpuEnabled": false,
   "isInternetEnabled": false,
   "language": "python",
   "sourceType": "notebook"
  },
  "kernelspec": {
   "display_name": "Python 3",
   "language": "python",
   "name": "python3"
  },
  "language_info": {
   "codemirror_mode": {
    "name": "ipython",
    "version": 3
   },
   "file_extension": ".py",
   "mimetype": "text/x-python",
   "name": "python",
   "nbconvert_exporter": "python",
   "pygments_lexer": "ipython3",
   "version": "3.10.12"
  },
  "papermill": {
   "default_parameters": {},
   "duration": 195.406271,
   "end_time": "2025-01-02T01:41:45.174296",
   "environment_variables": {},
   "exception": null,
   "input_path": "__notebook__.ipynb",
   "output_path": "__notebook__.ipynb",
   "parameters": {},
   "start_time": "2025-01-02T01:38:29.768025",
   "version": "2.6.0"
  }
 },
 "nbformat": 4,
 "nbformat_minor": 5
}
